{
 "cells": [
  {
   "cell_type": "markdown",
   "metadata": {},
   "source": [
    "https://www.youtube.com/watch?v=oBt53YbR9Kk"
   ]
  },
  {
   "cell_type": "code",
   "execution_count": 11,
   "metadata": {},
   "outputs": [
    {
     "data": {
      "text/plain": [
       "2333606220"
      ]
     },
     "execution_count": 11,
     "metadata": {},
     "output_type": "execute_result"
    }
   ],
   "source": [
    "# number of ways to traverse a 2d grid only going down and right (start top-left, end bottom-right)\n",
    "def grid_traveler(m,n,cache={}):\n",
    "    if m==1 and n==1: return 1\n",
    "    if m<=0 or n<=0: return 0\n",
    "    \n",
    "    res = cache.get((m,n))\n",
    "    if res: return res\n",
    "    \n",
    "    cache[(m,n)] = grid_traveler(m-1,n,cache) + grid_traveler(m,n-1,cache)\n",
    "    \n",
    "    return cache[(m,n)]\n",
    "\n",
    "grid_traveler(18,18)"
   ]
  },
  {
   "cell_type": "code",
   "execution_count": 24,
   "metadata": {},
   "outputs": [
    {
     "data": {
      "text/plain": [
       "False"
      ]
     },
     "execution_count": 24,
     "metadata": {},
     "output_type": "execute_result"
    }
   ],
   "source": [
    "# can the values in array sum to equal target (true/false). can use values in array repeatedily\n",
    "def can_sum(target, array, cache={}):\n",
    "    if target==0: return True\n",
    "    if target<0: return False\n",
    "    \n",
    "    res = cache.get(target)\n",
    "    if res is not None: return res\n",
    "    \n",
    "    for v in array:\n",
    "        cache[target] = can_sum(target-v, array, cache)\n",
    "        if cache[target]: return True\n",
    "    \n",
    "    return False\n",
    "    \n",
    "can_sum(300, [7,14])"
   ]
  },
  {
   "cell_type": "code",
   "execution_count": 57,
   "metadata": {},
   "outputs": [],
   "source": [
    "# retun any one array that sums to the target\n",
    "def how_sum(target, array, cache={}):\n",
    "    if target==0: return [] # this and None both evaluate to False\n",
    "    if target<0: return None\n",
    "    \n",
    "    if target in cache.keys():\n",
    "        return cache[target]\n",
    "    \n",
    "    for v in array:\n",
    "        cache[target] = how_sum(target-v, array, cache)\n",
    "        if cache[target] is not None: return [*cache[target], v]\n",
    "    \n",
    "    return None\n",
    "\n",
    "how_sum(300, [7,14])"
   ]
  },
  {
   "cell_type": "code",
   "execution_count": 34,
   "metadata": {},
   "outputs": [
    {
     "data": {
      "text/plain": [
       "[7]"
      ]
     },
     "metadata": {},
     "output_type": "display_data"
    },
    {
     "data": {
      "text/plain": [
       "[5, 3]"
      ]
     },
     "metadata": {},
     "output_type": "display_data"
    },
    {
     "data": {
      "text/plain": [
       "[4, 4]"
      ]
     },
     "metadata": {},
     "output_type": "display_data"
    },
    {
     "data": {
      "text/plain": [
       "[25, 25, 25, 25]"
      ]
     },
     "metadata": {},
     "output_type": "display_data"
    }
   ],
   "source": [
    "# return shortest array (or any shortest) that sums to the target\n",
    "def best_sum(target, array, cache={}):\n",
    "    if target==0: return []\n",
    "    if target<0: return None\n",
    "    \n",
    "    if target in cache.keys():\n",
    "        return cache[target]\n",
    "    \n",
    "    shortest = None\n",
    "    \n",
    "    for v in array:\n",
    "        res = best_sum(target-v, array, cache)\n",
    "        if res is not None:\n",
    "            combo = [*res, v]\n",
    "            if shortest is None or len(combo)<len(shortest):\n",
    "                cache[target] = combo  # needed to make sure this is inside the if-statement\n",
    "                shortest = combo\n",
    "    \n",
    "    return shortest\n",
    "\n",
    "display(best_sum(7, [5,3,4,7]))\n",
    "display(best_sum(8,[2,3,5]))\n",
    "display(best_sum(8, [1,4,5], {}))  # for some reason, need to pass in empty cache\n",
    "display(best_sum(100, [1,2,5,25]))"
   ]
  },
  {
   "cell_type": "code",
   "execution_count": 3,
   "metadata": {},
   "outputs": [
    {
     "data": {
      "text/plain": [
       "0"
      ]
     },
     "execution_count": 3,
     "metadata": {},
     "output_type": "execute_result"
    }
   ],
   "source": [
    "test = \"abc\"\n",
    "len(test[4:])"
   ]
  },
  {
   "cell_type": "code",
   "execution_count": 17,
   "metadata": {},
   "outputs": [
    {
     "data": {
      "text/plain": [
       "True"
      ]
     },
     "metadata": {},
     "output_type": "display_data"
    },
    {
     "data": {
      "text/plain": [
       "False"
      ]
     },
     "metadata": {},
     "output_type": "display_data"
    },
    {
     "data": {
      "text/plain": [
       "False"
      ]
     },
     "metadata": {},
     "output_type": "display_data"
    }
   ],
   "source": [
    "# can the values in the wordbank be used to construct the target?\n",
    "\n",
    "def can_construct_slow(target, array):\n",
    "    if len(target)<=0: return True\n",
    "    \n",
    "    for v in array:\n",
    "        i = len(v)\n",
    "        if target[:i]==v:\n",
    "            if can_construct_slow(target[i:],array):\n",
    "                return True\n",
    "            \n",
    "    return False\n",
    "    \n",
    "\n",
    "display(can_construct_slow('abcdef', ['ab', 'abc', 'cd', 'def', 'abcd']))\n",
    "display(can_construct_slow('abef', ['ab', 'abc', 'cd', 'def', 'abcd']))\n",
    "# m=target.length\n",
    "# n=array.length\n",
    "# time: O(n^m*m) -extra m from target[i:] \n",
    "# space: O(m^2) - bcs of suffix\n",
    "\n",
    "def can_construct_fast(target, array, memo={}):\n",
    "    if len(target)<=0: return True\n",
    "    if target in memo.keys(): return memo[target]\n",
    "    \n",
    "    for v in array:\n",
    "        i = len(v)\n",
    "        if target[:i]==v:\n",
    "            suffix=target[i:]\n",
    "            memo[target] = can_construct_fast(suffix,array,memo)\n",
    "            if memo[target]:\n",
    "                return True\n",
    "            \n",
    "    return False\n",
    "# time: O(n*m*m)\n",
    "# space: O(m^2)\n",
    "\n",
    "display(can_construct_fast('eeeeeeeeeeeeeeeeeeeeeeeeeeeeeeeeeeeeeeeeeef', ['e', 'ee', 'eee', 'eeee', 'eeeee', 'eeeeee']))\n"
   ]
  },
  {
   "cell_type": "code",
   "execution_count": 28,
   "metadata": {},
   "outputs": [
    {
     "data": {
      "text/plain": [
       "2"
      ]
     },
     "metadata": {},
     "output_type": "display_data"
    },
    {
     "data": {
      "text/plain": [
       "1"
      ]
     },
     "metadata": {},
     "output_type": "display_data"
    },
    {
     "data": {
      "text/plain": [
       "0"
      ]
     },
     "metadata": {},
     "output_type": "display_data"
    },
    {
     "data": {
      "text/plain": [
       "0"
      ]
     },
     "metadata": {},
     "output_type": "display_data"
    }
   ],
   "source": [
    "# count the number of ways the strings in the array make the target word\n",
    "def count_construct(target, array, memo={}):\n",
    "    if len(target)<=0: return 1\n",
    "    if target in memo.keys(): return memo[target]\n",
    "    \n",
    "    count=0\n",
    "    \n",
    "    for v in array:\n",
    "        i = len(v)\n",
    "        if target[:i]==v:\n",
    "            suffix=target[i:]\n",
    "            memo[target] = count_construct(suffix, array, memo)\n",
    "            count += memo[target]\n",
    "            \n",
    "    return count\n",
    "\n",
    "display(count_construct('purple', ['purp', 'p', 'ur', 'le', 'purpl']))\n",
    "display(count_construct('abcdef', ['ab', 'abc','cd','def','abcd']))\n",
    "display(count_construct('skateboard', ['bo','rd','ate','t','ska','sk','boar']))\n",
    "display(count_construct('eeeeeeeeeeeeeeeeeeeeeeeeeeeeeeeeeeeeeeeeeef', ['e', 'ee', 'eee', 'eeee', 'eeeee', 'eeeeee']))"
   ]
  },
  {
   "cell_type": "code",
   "execution_count": 50,
   "metadata": {},
   "outputs": [
    {
     "data": {
      "text/plain": [
       "[['a', 'xy', 'z'], ['a', 'x', 'yz']]"
      ]
     },
     "execution_count": 50,
     "metadata": {},
     "output_type": "execute_result"
    }
   ],
   "source": [
    "test = [['xy', 'z'], ['x', 'yz']]\n",
    "[['a', *x] for x in test]"
   ]
  },
  {
   "cell_type": "code",
   "execution_count": 73,
   "metadata": {},
   "outputs": [
    {
     "data": {
      "text/plain": [
       "[[['purp']], [['p', ['ur']]]]"
      ]
     },
     "metadata": {},
     "output_type": "display_data"
    },
    {
     "data": {
      "text/plain": [
       "[['p', ['ur']]]"
      ]
     },
     "metadata": {},
     "output_type": "display_data"
    }
   ],
   "source": [
    "# return all ways target can be built in a 2d array\n",
    "def all_construct(target, array, memo={}):\n",
    "    if len(target)<=0: return []\n",
    "    if target in memo.keys(): return memo[target]\n",
    "    \n",
    "    ways=[]\n",
    "    \n",
    "    for v in array:\n",
    "        i=len(v)\n",
    "        if target[:i]==v:\n",
    "            suffix=target[i:]\n",
    "            res = all_construct(suffix, array, memo)\n",
    "            if res is not None:\n",
    "                if type(res) is list:\n",
    "                    way = [[v, *x] for x in res]\n",
    "                else:\n",
    "                    way = [v, *res]\n",
    "                memo[target]=way\n",
    "                ways.append(way)\n",
    "                    \n",
    "    return ways\n",
    "    \n",
    "display(all_construct('purple', ['purp', 'p', 'ur', 'le']))\n",
    "display(all_construct('purple', ['purp', 'p', 'ur', 'le', 'purpl', 'e', 'urp']))"
   ]
  }
 ],
 "metadata": {
  "kernelspec": {
   "display_name": "Python 3",
   "language": "python",
   "name": "python3"
  },
  "language_info": {
   "codemirror_mode": {
    "name": "ipython",
    "version": 3
   },
   "file_extension": ".py",
   "mimetype": "text/x-python",
   "name": "python",
   "nbconvert_exporter": "python",
   "pygments_lexer": "ipython3",
   "version": "3.8.5"
  }
 },
 "nbformat": 4,
 "nbformat_minor": 4
}
