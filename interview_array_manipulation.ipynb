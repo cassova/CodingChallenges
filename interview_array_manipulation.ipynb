{
 "cells": [
  {
   "cell_type": "markdown",
   "metadata": {},
   "source": [
    "# Question 1 - Calculate Average"
   ]
  },
  {
   "cell_type": "code",
   "execution_count": 1,
   "metadata": {},
   "outputs": [],
   "source": [
    "\"\"\"\n",
    "Input: stream of numbers. (size is not defined)\n",
    "getNext() -> next number in the stream : NULL/None\n",
    "\n",
    "calculate average\n",
    "\n",
    "Input:  [1, 2, 3, 4]\n",
    "Output: [1, 1.5, 2, 2.5]\n",
    "\n",
    "\"\"\"\n",
    "arr = [1, 2, 3, 4]\n",
    "itr = iter(arr)\n",
    "\n",
    "def getNext():\n",
    "    return next(itr)"
   ]
  },
  {
   "cell_type": "code",
   "execution_count": 2,
   "metadata": {},
   "outputs": [
    {
     "data": {
      "text/plain": [
       "[1.0, 1.5, 2.0, 2.5]"
      ]
     },
     "execution_count": 2,
     "metadata": {},
     "output_type": "execute_result"
    }
   ],
   "source": [
    "#Solution:\n",
    "\n",
    "n = 0\n",
    "sumV = 0\n",
    "avgV = []\n",
    "while True:\n",
    "    try:\n",
    "        v = getNext()\n",
    "        if v is not None:\n",
    "            sumV += v\n",
    "            n += 1\n",
    "            avgV.append(sumV/n)\n",
    "        else:\n",
    "            break\n",
    "    except:\n",
    "        break\n",
    "avgV"
   ]
  },
  {
   "cell_type": "markdown",
   "metadata": {},
   "source": [
    "# Question 2  - Calculate Median"
   ]
  },
  {
   "cell_type": "code",
   "execution_count": null,
   "metadata": {},
   "outputs": [],
   "source": [
    "\"\"\"\n",
    "Input: stream of numbers. (size is not defined)\n",
    "getNext() -> next number in the stream : NULL/None\n",
    "\n",
    "calculate median\n",
    "\n",
    "Input:  [1, 2, 3, 4]\n",
    "Output: [1, 1.5, 2, 2.5]\n",
    "\n",
    "Median : sort array -> middle value for odd length\n",
    "sort array -> average of middle two value for even length\n",
    "\n",
    "\"\"\""
   ]
  },
  {
   "cell_type": "code",
   "execution_count": 4,
   "metadata": {},
   "outputs": [
    {
     "name": "stdout",
     "output_type": "stream",
     "text": [
      "[1, 1.5, 2, 2.5]\n"
     ]
    }
   ],
   "source": [
    "# Solution - Approach 1\n",
    "\n",
    "def getMedian(inputList):\n",
    "\n",
    "    n = 0\n",
    "    numV = []\n",
    "    medV = []\n",
    "    for v in inputList:\n",
    "        try:\n",
    "            # v = getNext()\n",
    "            if v is not None:\n",
    "                # sumV += v\n",
    "                numV.append(v)\n",
    "                n += 1\n",
    "                numV.sort()\n",
    "                if n%2 == 0:\n",
    "                    mid = int((n-1)/2)\n",
    "                    median = (numV[mid] + numV[mid+1]) / 2\n",
    "                \n",
    "                else:\n",
    "                    mid = int((n-1)/2)\n",
    "                    median = numV[mid]\n",
    "                medV.append(median)\n",
    "            else:\n",
    "                break\n",
    "        except:\n",
    "            break    \n",
    "    print(medV)\n",
    "    \n",
    "getMedian([1, 2, 3, 4])"
   ]
  },
  {
   "cell_type": "code",
   "execution_count": 5,
   "metadata": {},
   "outputs": [
    {
     "name": "stdout",
     "output_type": "stream",
     "text": [
      "[4, 3.0, 2, 4.0]\n"
     ]
    }
   ],
   "source": [
    "# Solution - Approach 2\n",
    "\n",
    "#4,2,5,3\n",
    "\n",
    "\n",
    "def getMedian2(inputList):\n",
    "    n = 0\n",
    "    #v = getNext()\n",
    "    numV = []\n",
    "    medV = []\n",
    "    medianIdx = 0\n",
    "    for v in inputList:\n",
    "        if v is not None:\n",
    "            if n == 0:\n",
    "                numV.append(v)\n",
    "                medV.append(v)\n",
    "                n+=1\n",
    "            else:\n",
    "                i = 0\n",
    "                while True:\n",
    "                    #if medianIdx + i < 0:\n",
    "                    \n",
    "                        \n",
    "                    if medianIdx+i < 0 or medianIdx+i >= n or \\\n",
    "                    (v == numV[medianIdx + i]) or \\\n",
    "                    (i>0 and v < numV[medianIdx + i]) or \\\n",
    "                    (i<0 and v > numV[medianIdx + i]):\n",
    "                        numV.insert(medianIdx+i, v) \n",
    "                        if i>=0:\n",
    "                            medianIdx +=1\n",
    "                        else:\n",
    "                            medianIdx -=1\n",
    "                        break\n",
    "                    elif v > numV[medianIdx + i]:\n",
    "                        i += 1\n",
    "                    else:\n",
    "                        i -= 1\n",
    "                n+=1\n",
    "                if n%2 == 0:\n",
    "                    median = (numV[medianIdx] + numV[medianIdx+1]) / 2\n",
    "                \n",
    "                else:\n",
    "                    median = numV[medianIdx]\n",
    "                medV.append(median)\n",
    "        #else:\n",
    "    print(medV)\n",
    "    \n",
    "getMedian2([4,2,5,3])"
   ]
  },
  {
   "cell_type": "code",
   "execution_count": null,
   "metadata": {},
   "outputs": [],
   "source": []
  }
 ],
 "metadata": {
  "kernelspec": {
   "display_name": "Python 3",
   "language": "python",
   "name": "python3"
  },
  "language_info": {
   "codemirror_mode": {
    "name": "ipython",
    "version": 3
   },
   "file_extension": ".py",
   "mimetype": "text/x-python",
   "name": "python",
   "nbconvert_exporter": "python",
   "pygments_lexer": "ipython3",
   "version": "3.8.5"
  }
 },
 "nbformat": 4,
 "nbformat_minor": 4
}
