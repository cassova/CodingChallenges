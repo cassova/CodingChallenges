{
 "cells": [
  {
   "cell_type": "code",
   "execution_count": 28,
   "metadata": {},
   "outputs": [],
   "source": [
    "INITIAL_CAPACITY = 8\n",
    "\n",
    "class HashTable():\n",
    "    \n",
    "    def __init__(self):\n",
    "        self.capacity = INITIAL_CAPACITY\n",
    "        self.size = 0\n",
    "        self.buckets = [None] * self.capacity\n",
    "        \n",
    "    def hash(self, key):\n",
    "        hashsum=0\n",
    "        for i,c in enumerate(key):\n",
    "            hashsum += (i+len(key))**ord(c)\n",
    "        return hashsum % self.capacity\n",
    "\n",
    "    def insert(self, key, value):\n",
    "        self.size += 1\n",
    "        index = self.hash(key)\n",
    "        node = self.buckets[index]\n",
    "        \n",
    "        if node is None:\n",
    "            self.buckets[index] = Node(key,value)\n",
    "        else:\n",
    "            prev = None\n",
    "            while node is not None:\n",
    "                prev = node\n",
    "                node = prev.next\n",
    "            prev.next = Node(key,value)\n",
    "        return\n",
    "    \n",
    "    def find(self, key):\n",
    "        index = self.hash(key)\n",
    "        node = self.buckets[index]\n",
    "        while node is not None and node.key != key:\n",
    "            node = node.next\n",
    "        \n",
    "        if node is None:\n",
    "            value = None\n",
    "        else:\n",
    "            value = node.value\n",
    "        return value\n",
    "    \n",
    "    def remove(self, key):\n",
    "        self.size -= 1\n",
    "        index = self.hash(key)\n",
    "        node = self.buckets[index]\n",
    "        \n",
    "        prev = None\n",
    "        while node is not None and node.key != key:\n",
    "            prev = node\n",
    "            node = prev.next\n",
    "        \n",
    "        if node is not None:\n",
    "            if prev is not None:\n",
    "                prev.next = node.next\n",
    "            else:\n",
    "                node = None\n",
    "        \n",
    "class Node:\n",
    "    def __init__(self, key, value):\n",
    "        self.key = key\n",
    "        self.value = value\n",
    "        self.next = None\n"
   ]
  },
  {
   "cell_type": "code",
   "execution_count": 29,
   "metadata": {},
   "outputs": [],
   "source": [
    "hash_table = HashTable()\n",
    "for i in range(100):\n",
    "    hash_table.insert(str(i),((i+6)**2+4265763)%1000)"
   ]
  },
  {
   "cell_type": "code",
   "execution_count": 30,
   "metadata": {},
   "outputs": [
    {
     "name": "stdout",
     "output_type": "stream",
     "text": [
      "0 = 799\n",
      "1 = 812\n",
      "2 = 827\n",
      "3 = 844\n",
      "4 = 863\n",
      "5 = 884\n",
      "6 = 907\n",
      "7 = 932\n",
      "8 = 959\n",
      "9 = 988\n"
     ]
    }
   ],
   "source": [
    "for i in range(10):\n",
    "    v = hash_table.find(str(i))\n",
    "    print (f'{i} = {v}')"
   ]
  },
  {
   "cell_type": "code",
   "execution_count": 31,
   "metadata": {},
   "outputs": [
    {
     "name": "stdout",
     "output_type": "stream",
     "text": [
      "0 = 799\n",
      "1 = 812\n",
      "2 = None\n",
      "3 = 844\n",
      "4 = 863\n",
      "5 = 884\n",
      "6 = 907\n",
      "7 = None\n",
      "8 = 959\n",
      "9 = 988\n"
     ]
    }
   ],
   "source": [
    "hash_table.remove(str(7))\n",
    "hash_table.remove(str(2))\n",
    "for i in range(10):\n",
    "    v = hash_table.find(str(i))\n",
    "    print (f'{i} = {v}')"
   ]
  }
 ],
 "metadata": {
  "kernelspec": {
   "display_name": "Python 3",
   "language": "python",
   "name": "python3"
  },
  "language_info": {
   "codemirror_mode": {
    "name": "ipython",
    "version": 3
   },
   "file_extension": ".py",
   "mimetype": "text/x-python",
   "name": "python",
   "nbconvert_exporter": "python",
   "pygments_lexer": "ipython3",
   "version": "3.8.5"
  }
 },
 "nbformat": 4,
 "nbformat_minor": 4
}
