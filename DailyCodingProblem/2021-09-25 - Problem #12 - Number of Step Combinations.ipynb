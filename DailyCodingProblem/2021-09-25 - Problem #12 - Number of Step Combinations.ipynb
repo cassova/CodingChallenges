{
 "cells": [
  {
   "cell_type": "markdown",
   "metadata": {},
   "source": [
    "Good morning! Here's your coding interview problem for today.\n",
    "\n",
    "This problem was asked by Amazon.\n",
    "\n",
    "There exists a staircase with N steps, and you can climb up either 1 or 2 steps at a time. Given N, write a function that returns the number of unique ways you can climb the staircase. The order of the steps matters.\n",
    "\n",
    "For example, if N is 4, then there are 5 unique ways:\n",
    "\n",
    "- 1, 1, 1, 1\n",
    "- 2, 1, 1\n",
    "- 1, 2, 1\n",
    "- 1, 1, 2\n",
    "- 2, 2\n",
    "\n",
    "What if, instead of being able to climb 1 or 2 steps at a time, you could climb any number from a set of positive integers X? For example, if X = {1, 3, 5}, you could climb 1, 3, or 5 steps at a time."
   ]
  },
  {
   "cell_type": "code",
   "execution_count": 1,
   "metadata": {},
   "outputs": [
    {
     "data": {
      "text/plain": [
       "[[1, 1, 1, 1, 1, 1],\n",
       " [1, 1, 1, 1, 2],\n",
       " [1, 1, 1, 2, 1],\n",
       " [1, 1, 1, 3],\n",
       " [1, 1, 2, 1, 1],\n",
       " [1, 1, 2, 2],\n",
       " [1, 1, 3, 1],\n",
       " [1, 2, 1, 1, 1],\n",
       " [1, 2, 1, 2],\n",
       " [1, 2, 2, 1],\n",
       " [1, 2, 3],\n",
       " [1, 3, 1, 1],\n",
       " [1, 3, 2],\n",
       " [2, 1, 1, 1, 1],\n",
       " [2, 1, 1, 2],\n",
       " [2, 1, 2, 1],\n",
       " [2, 1, 3],\n",
       " [2, 2, 1, 1],\n",
       " [2, 2, 2],\n",
       " [2, 3, 1],\n",
       " [3, 1, 1, 1],\n",
       " [3, 1, 2],\n",
       " [3, 2, 1],\n",
       " [3, 3]]"
      ]
     },
     "execution_count": 1,
     "metadata": {},
     "output_type": "execute_result"
    }
   ],
   "source": [
    "def count_step_permuations(n, step_sizes):\n",
    "    possibilites = []\n",
    "    if n<min(step_sizes):\n",
    "        return []\n",
    "    \n",
    "    for ss in step_sizes:\n",
    "        if n==ss:\n",
    "            possibilites.append([ss])\n",
    "        elif n>ss:\n",
    "            for nx in count_step_permuations((n-ss), step_sizes):\n",
    "                possibilites.append([ss]+nx)\n",
    "    return possibilites\n",
    "count_step_permuations(6, (1,2,3))"
   ]
  }
 ],
 "metadata": {
  "kernelspec": {
   "display_name": "Python 3",
   "language": "python",
   "name": "python3"
  },
  "language_info": {
   "codemirror_mode": {
    "name": "ipython",
    "version": 3
   },
   "file_extension": ".py",
   "mimetype": "text/x-python",
   "name": "python",
   "nbconvert_exporter": "python",
   "pygments_lexer": "ipython3",
   "version": "3.8.5"
  }
 },
 "nbformat": 4,
 "nbformat_minor": 4
}
