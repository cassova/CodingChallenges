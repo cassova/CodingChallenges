{
 "cells": [
  {
   "cell_type": "markdown",
   "metadata": {},
   "source": [
    "Good morning! Here's your coding interview problem for today.\n",
    "\n",
    "This problem was asked by Airbnb.\n",
    "\n",
    "Given a list of integers, write a function that returns the largest sum of non-adjacent numbers. Numbers can be `0` or negative.\n",
    "\n",
    "For example, `[2, 4, 6, 2, 5]` should return `13`, since we pick `2`, `6`, and `5`. `[5, 1, 1, 5]` should return `10`, since we pick `5` and `5`.\n",
    "\n",
    "Follow-up: Can you do this in O(N) time and constant space?"
   ]
  },
  {
   "cell_type": "code",
   "execution_count": 1,
   "metadata": {},
   "outputs": [
    {
     "name": "stdout",
     "output_type": "stream",
     "text": [
      "13\n",
      "10\n",
      "0\n",
      "-1\n",
      "20\n",
      "26\n",
      "0\n",
      "0\n"
     ]
    }
   ],
   "source": [
    "def find_biggest_sum(arr, memo={}):\n",
    "    if len(arr) == 0:\n",
    "        return 0\n",
    "    if len(arr) == 1:\n",
    "        return arr[0]\n",
    "    if arr in memo.keys():\n",
    "        return memo[arr]\n",
    "    maxsum = None\n",
    "    cursum = 0\n",
    "    for i in range(len(arr)):\n",
    "        if i+2 < len(arr):\n",
    "            for j in range(i+2,len(arr)+1):\n",
    "                biggest_sum = find_biggest_sum(arr[j:], memo)\n",
    "                memo[arr[j:]] = biggest_sum\n",
    "                cursum = arr[i] + biggest_sum\n",
    "                if maxsum==None or cursum>maxsum:\n",
    "                    maxsum = cursum\n",
    "        else:\n",
    "            if maxsum==None or arr[i]>maxsum:\n",
    "                maxsum = arr[i]\n",
    "        memo[arr] = maxsum\n",
    "    return maxsum\n",
    "\n",
    "\n",
    "print(find_biggest_sum(tuple([2, 4, 6, 2, 5])))           # should be 13\n",
    "print(find_biggest_sum(tuple([5, 1, 1, 5])))              # should be 10\n",
    "print(find_biggest_sum(tuple([-1,-6,0,-3,-3,-6,-7,-20]))) # should be 0\n",
    "print(find_biggest_sum(tuple([-1,-6,-3,-3,-6,-7,-20])))   # should be -4\n",
    "print(find_biggest_sum(tuple([-1,-6,-3,-3,-6,7,20])))     # should be 19\n",
    "print(find_biggest_sum(tuple([-1,-6,-3,-3,6,-7,20])))     # should be 26\n",
    "print(find_biggest_sum(tuple([-1,0,-1,0])))               # should be 0\n",
    "print(find_biggest_sum(tuple([-1,0,0,-1])))               # should be -1"
   ]
  },
  {
   "cell_type": "code",
   "execution_count": 2,
   "metadata": {},
   "outputs": [
    {
     "name": "stdout",
     "output_type": "stream",
     "text": [
      "13\n",
      "10\n",
      "0\n",
      "0\n",
      "20\n",
      "26\n",
      "0\n",
      "0\n"
     ]
    }
   ],
   "source": [
    "def find_biggest_sum(arr):\n",
    "    prev=0\n",
    "    largest=0\n",
    "    for a in arr:\n",
    "        tmp = largest\n",
    "        largest = max(largest, prev+a)\n",
    "        prev=tmp\n",
    "    return largest\n",
    "\n",
    "print(find_biggest_sum([2, 4, 6, 2, 5]))           # should be 13\n",
    "print(find_biggest_sum([5, 1, 1, 5]))              # should be 10\n",
    "print(find_biggest_sum([-1,-6,0,-3,-3,-6,-7,-20])) # should be 0\n",
    "print(find_biggest_sum([-1,-6,-3,-3,-6,-7,-20]))   # should be -4\n",
    "print(find_biggest_sum([-1,-6,-3,-3,-6,7,20]))     # should be 19\n",
    "print(find_biggest_sum([-1,-6,-3,-3,6,-7,20]))     # should be 26\n",
    "print(find_biggest_sum([-1,0,-1,0]))               # should be 0\n",
    "print(find_biggest_sum([-1,0,0,-1]))               # should be -1"
   ]
  }
 ],
 "metadata": {
  "kernelspec": {
   "display_name": "Python 3",
   "language": "python",
   "name": "python3"
  },
  "language_info": {
   "codemirror_mode": {
    "name": "ipython",
    "version": 3
   },
   "file_extension": ".py",
   "mimetype": "text/x-python",
   "name": "python",
   "nbconvert_exporter": "python",
   "pygments_lexer": "ipython3",
   "version": "3.8.5"
  }
 },
 "nbformat": 4,
 "nbformat_minor": 4
}
