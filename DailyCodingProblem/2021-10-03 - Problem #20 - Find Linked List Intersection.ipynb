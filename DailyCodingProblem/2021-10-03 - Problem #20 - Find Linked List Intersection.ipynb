{
 "cells": [
  {
   "cell_type": "markdown",
   "metadata": {},
   "source": [
    "Good morning! Here's your coding interview problem for today.\n",
    "\n",
    "This problem was asked by Google.\n",
    "\n",
    "Given two singly linked lists that intersect at some point, find the intersecting node. The lists are non-cyclical.\n",
    "\n",
    "For example, given A = 3 -> 7 -> 8 -> 10 and B = 99 -> 1 -> 8 -> 10, return the node with value 8.\n",
    "\n",
    "In this example, assume nodes with the same value are the exact same node objects.\n",
    "\n",
    "Do this in O(M + N) time (where M and N are the lengths of the lists) and constant space."
   ]
  },
  {
   "cell_type": "code",
   "execution_count": 1,
   "metadata": {},
   "outputs": [
    {
     "name": "stdout",
     "output_type": "stream",
     "text": [
      "1 -> 2 -> 3 Size= 3\n"
     ]
    }
   ],
   "source": [
    "class Node():\n",
    "    def __init__(self,value=None,next_node=None):\n",
    "        self.value=value\n",
    "        self.next_node=next_node\n",
    "    def __repr__(self):\n",
    "        arr=[]\n",
    "        curr=self\n",
    "        while curr:\n",
    "            arr.append(str(curr.value))\n",
    "            curr = curr.next_node\n",
    "        return ' -> '.join(arr)\n",
    "    \n",
    "class LinkedList():\n",
    "    def __init__(self,head):\n",
    "        self.head=head\n",
    "        self.calc_length()\n",
    "    def calc_length(self):\n",
    "        self.length=0\n",
    "        c = self.head\n",
    "        while c:\n",
    "            self.length+=1\n",
    "            c=c.next_node\n",
    "        return self.length\n",
    "    def __repr__(self):\n",
    "        return str(self.head)\n",
    "        \n",
    "ll = LinkedList(Node(1,Node(2,Node(3))))\n",
    "print(ll, 'Size=', ll.length)"
   ]
  },
  {
   "cell_type": "code",
   "execution_count": 2,
   "metadata": {},
   "outputs": [
    {
     "name": "stdout",
     "output_type": "stream",
     "text": [
      "(1 -> 2 -> 3 -> 4) | (6 -> 5 -> 3 -> 4) = (3 -> 4)\n",
      "(1 -> 2 -> 3 -> 4) | (6 -> 5 -> 7 -> 8 -> 2 -> 3 -> 4) = (2 -> 3 -> 4)\n"
     ]
    }
   ],
   "source": [
    "def intersection_node(lst1, lst2):\n",
    "    offset = abs(lst1.length-lst2.length)\n",
    "    \n",
    "    node_a = lst1.head\n",
    "    node_b = lst2.head\n",
    "    \n",
    "    if lst1.length>=lst2.length:\n",
    "        while node_a and offset>0:\n",
    "            node_a = node_a.next_node\n",
    "            offset-=1\n",
    "    else:\n",
    "        while node_b and offset>0:\n",
    "            node_b = node_b.next_node\n",
    "            offset-=1\n",
    "    \n",
    "    while node_a and node_b:\n",
    "        if node_a.value == node_b.value:\n",
    "            return node_a\n",
    "        node_a = node_a.next_node\n",
    "        node_b = node_b.next_node\n",
    "        \n",
    "    return -1\n",
    "\n",
    "lst1 = LinkedList(Node(1,Node(2,Node(3,Node(4)))))\n",
    "lst2 = LinkedList(Node(6,Node(5,Node(3,Node(4)))))\n",
    "\n",
    "print(f'({lst1}) | ({lst2}) = ({intersection_node(lst1, lst2)})')\n",
    "\n",
    "lst1 = LinkedList(Node(1,Node(2,Node(3,Node(4)))))\n",
    "lst2 = LinkedList(Node(6,Node(5,Node(7,Node(8,Node(2,Node(3,Node(4))))))))\n",
    "\n",
    "print(f'({lst1}) | ({lst2}) = ({intersection_node(lst1, lst2)})')"
   ]
  }
 ],
 "metadata": {
  "kernelspec": {
   "display_name": "Python 3",
   "language": "python",
   "name": "python3"
  },
  "language_info": {
   "codemirror_mode": {
    "name": "ipython",
    "version": 3
   },
   "file_extension": ".py",
   "mimetype": "text/x-python",
   "name": "python",
   "nbconvert_exporter": "python",
   "pygments_lexer": "ipython3",
   "version": "3.8.5"
  }
 },
 "nbformat": 4,
 "nbformat_minor": 4
}
