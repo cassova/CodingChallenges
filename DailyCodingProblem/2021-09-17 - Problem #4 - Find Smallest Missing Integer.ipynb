{
 "cells": [
  {
   "cell_type": "markdown",
   "metadata": {},
   "source": [
    "Good morning! Here's your coding interview problem for today.\n",
    "\n",
    "This problem was asked by Stripe.\n",
    "\n",
    "Given an array of integers, find the first missing positive integer in linear time and constant space. In other words, find the lowest positive integer that does not exist in the array. The array can contain duplicates and negative numbers as well.\n",
    "\n",
    "For example, the input [3, 4, -1, 1] should give 2. The input [1, 2, 0] should give 3.\n",
    "\n",
    "You can modify the input array in-place."
   ]
  },
  {
   "cell_type": "code",
   "execution_count": 1,
   "metadata": {},
   "outputs": [],
   "source": [
    "arrays = [[0,1,2,3],     # 4\n",
    "          [1,2,3],       # 0\n",
    "          [-1,-2,0,1,2], # 3\n",
    "          [3,2,1,0],     # 4\n",
    "          [0,1,2,6,7,8], # 3\n",
    "          [8,-1,0,3,1,2],# 4\n",
    "          [41,42,43],    # 0\n",
    "          [0,3,1,2],     # 4\n",
    "          [0,-2,8],      # 1\n",
    "          [0,5,3,2,1,4], # 6\n",
    "          [1,0,0,2,1,2], # 3\n",
    "         ]"
   ]
  },
  {
   "cell_type": "code",
   "execution_count": 2,
   "metadata": {},
   "outputs": [
    {
     "name": "stdout",
     "output_type": "stream",
     "text": [
      "4\n",
      "0\n",
      "3\n",
      "4\n",
      "3\n",
      "4\n",
      "0\n",
      "4\n",
      "1\n",
      "6\n",
      "3\n"
     ]
    }
   ],
   "source": [
    "# Complexity:\n",
    "#  Time - O(2n) or just O(n)\n",
    "#  Space - O(n)  :(\n",
    "\n",
    "def find_missing_min(arr):\n",
    "    new_arr = [-1]*(len(arr)+1)\n",
    "    \n",
    "    for i,a in enumerate(arr):\n",
    "        if a>=0 and a<len(arr):\n",
    "            new_arr[a]=a\n",
    "    for i,a in enumerate(new_arr):\n",
    "        if a==-1:\n",
    "            return i\n",
    "\n",
    "for arr in arrays:\n",
    "    print(find_missing_min(arr))"
   ]
  },
  {
   "cell_type": "code",
   "execution_count": 3,
   "metadata": {},
   "outputs": [
    {
     "name": "stdout",
     "output_type": "stream",
     "text": [
      "4\n",
      "0\n",
      "3\n",
      "4\n",
      "3\n",
      "4\n",
      "0\n",
      "4\n",
      "1\n",
      "6\n",
      "3\n"
     ]
    }
   ],
   "source": [
    "# Complexity:\n",
    "#  Time - O(n)\n",
    "#  Space - O(2n) or just O(n) :(\n",
    "\n",
    "def find_missing_min(arr):\n",
    "    my_set = set(i for i in range(len(arr)+1)) ^ set(arr)\n",
    "    return next(iter(my_set))\n",
    "\n",
    "for arr in arrays:\n",
    "    print(find_missing_min(arr))"
   ]
  }
 ],
 "metadata": {
  "kernelspec": {
   "display_name": "Python 3",
   "language": "python",
   "name": "python3"
  },
  "language_info": {
   "codemirror_mode": {
    "name": "ipython",
    "version": 3
   },
   "file_extension": ".py",
   "mimetype": "text/x-python",
   "name": "python",
   "nbconvert_exporter": "python",
   "pygments_lexer": "ipython3",
   "version": "3.8.5"
  }
 },
 "nbformat": 4,
 "nbformat_minor": 4
}
