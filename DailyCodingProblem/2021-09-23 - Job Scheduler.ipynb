{
 "cells": [
  {
   "cell_type": "markdown",
   "metadata": {},
   "source": [
    "Good morning! Here's your coding interview problem for today.\n",
    "\n",
    "This problem was asked by Apple.\n",
    "\n",
    "Implement a job scheduler which takes in a function `f` and an integer `n`, and calls `f` after `n` milliseconds."
   ]
  },
  {
   "cell_type": "code",
   "execution_count": 1,
   "metadata": {},
   "outputs": [
    {
     "name": "stdout",
     "output_type": "stream",
     "text": [
      "Wall time: 1.01 s\n",
      "22\n",
      "Wall time: 61.1 ms\n",
      "4\n"
     ]
    }
   ],
   "source": [
    "# If in sequence is OK...\n",
    "import time\n",
    "\n",
    "def run_job(f, n, *args):\n",
    "    %time time.sleep(n/1000.)\n",
    "    print(f(*args))\n",
    "\n",
    "run_job(lambda x: x*2, 1000, 11)  # 22 - display 1st\n",
    "run_job(lambda: 2*2, 50)           # 4 - display 2nd"
   ]
  },
  {
   "cell_type": "code",
   "execution_count": 2,
   "metadata": {},
   "outputs": [
    {
     "name": "stdout",
     "output_type": "stream",
     "text": [
      "Wall time: 64.4 ms\n",
      "4\n",
      "Wall time: 1.01 s\n",
      "22\n"
     ]
    }
   ],
   "source": [
    "# If this should be in parallel...\n",
    "import time\n",
    "import concurrent.futures\n",
    "\n",
    "def run_job(f, n, *args):\n",
    "    %time time.sleep(n/1000.)\n",
    "    print(f(*args))\n",
    "\n",
    "with concurrent.futures.ThreadPoolExecutor() as executor:\n",
    "    future1 = executor.submit(run_job, lambda x: x*2, 1000, 11) # 22 - display 2nd\n",
    "    future2 = executor.submit(run_job, lambda: 2*2, 50)          # 4 - display 1st"
   ]
  }
 ],
 "metadata": {
  "kernelspec": {
   "display_name": "Python 3",
   "language": "python",
   "name": "python3"
  },
  "language_info": {
   "codemirror_mode": {
    "name": "ipython",
    "version": 3
   },
   "file_extension": ".py",
   "mimetype": "text/x-python",
   "name": "python",
   "nbconvert_exporter": "python",
   "pygments_lexer": "ipython3",
   "version": "3.8.5"
  }
 },
 "nbformat": 4,
 "nbformat_minor": 4
}
