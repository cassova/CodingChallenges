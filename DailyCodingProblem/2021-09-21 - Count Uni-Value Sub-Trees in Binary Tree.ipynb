{
 "cells": [
  {
   "cell_type": "markdown",
   "metadata": {},
   "source": [
    "Good morning! Here's your coding interview problem for today.\n",
    "\n",
    "This problem was asked by Google.\n",
    "\n",
    "A unival tree (which stands for \"universal value\") is a tree where all nodes under it have the same value.\n",
    "\n",
    "Given the root to a binary tree, count the number of unival subtrees.\n",
    "\n",
    "For example, the following tree has 5 unival subtrees:\n",
    "\n",
    "```\n",
    "   0\n",
    "  / \\\n",
    " 1   0\n",
    "    / \\\n",
    "   1   0\n",
    "  / \\\n",
    " 1   1\n",
    "```"
   ]
  },
  {
   "cell_type": "code",
   "execution_count": 1,
   "metadata": {},
   "outputs": [
    {
     "data": {
      "text/plain": [
       "BinaryTree(Node(0, Node(1), Node(0, Node(1, Node(1), Node(1)), Node(0))))"
      ]
     },
     "execution_count": 1,
     "metadata": {},
     "output_type": "execute_result"
    }
   ],
   "source": [
    "# Helper classes\n",
    "class Node():\n",
    "    def __init__(self, value, left=None, right=None):\n",
    "        self.value=value\n",
    "        self.left=left\n",
    "        self.right=right\n",
    "    def __repr__(self):\n",
    "        if self.right is not None:\n",
    "            fmt = '{}({value!r}, {left!r}, {right!r})'\n",
    "        elif self.left is not None:\n",
    "            fmt = '{}({value!r}, {left!r})'\n",
    "        else:\n",
    "            fmt = '{}({value!r})'\n",
    "        return fmt.format(type(self).__name__, **vars(self))\n",
    "class BinaryTree():\n",
    "    def __init__(self, root=None):\n",
    "        self.root=root\n",
    "    def __repr__(self):\n",
    "        return '{}({})'.format(type(self).__name__,repr(self.root))\n",
    "    \n",
    "bt = BinaryTree(Node(0, Node(1), Node(0, Node(1, Node(1), Node(1)), Node(0))))\n",
    "bt"
   ]
  },
  {
   "cell_type": "markdown",
   "metadata": {},
   "source": [
    "### Solution"
   ]
  },
  {
   "cell_type": "code",
   "execution_count": 2,
   "metadata": {},
   "outputs": [],
   "source": [
    "def count_univals(node, count=0):\n",
    "    def is_unival(node):\n",
    "        if node == None or (node.left == None and node.right == None):\n",
    "            return True\n",
    "        if node.left != None and node.left.value != node.value:\n",
    "            return False\n",
    "        elif node.right != None and node.right.value != node.value:\n",
    "            return False\n",
    "        else:\n",
    "            return is_unival(node.left) and is_unival(node.right)\n",
    "    \n",
    "    if node==None:\n",
    "        return count\n",
    "    if is_unival(node):\n",
    "        count += 1\n",
    "    return count + count_univals(node.left) + count_univals(node.right)"
   ]
  },
  {
   "cell_type": "markdown",
   "metadata": {},
   "source": [
    "### Tests"
   ]
  },
  {
   "cell_type": "code",
   "execution_count": 3,
   "metadata": {},
   "outputs": [
    {
     "name": "stdout",
     "output_type": "stream",
     "text": [
      "Node(0) \n",
      "   1\n",
      "Node(0, Node(0)) \n",
      "   2\n",
      "Node(0, Node(0), Node(0)) \n",
      "   3\n",
      "Node(0, Node(0), Node(1)) \n",
      "   2\n",
      "Node(0, Node(1), Node(0, Node(1, Node(1), Node(1)), Node(0))) \n",
      "   5\n",
      "Node(0, Node(1), Node(1, Node(1, Node(1), Node(1)), Node(0))) \n",
      "   5\n",
      "Node(0, Node(1), Node(1, Node(1, Node(1), Node(1)), Node(1))) \n",
      "   6\n",
      "Node(1, Node(1), Node(1, Node(1, Node(1), Node(1)), Node(1))) \n",
      "   7\n"
     ]
    }
   ],
   "source": [
    "bt = Node(0)\n",
    "print(bt, '\\n  ', count_univals(bt))\n",
    "\n",
    "bt = Node(0, Node(0))\n",
    "print(bt, '\\n  ', count_univals(bt))\n",
    "\n",
    "bt = Node(0, Node(0), Node(0))\n",
    "print(bt, '\\n  ', count_univals(bt))\n",
    "\n",
    "bt = Node(0, Node(0), Node(1))\n",
    "print(bt, '\\n  ', count_univals(bt))\n",
    "\n",
    "bt = Node(0, Node(1), Node(0, Node(1, Node(1), Node(1)), Node(0)))\n",
    "print(bt, '\\n  ', count_univals(bt))\n",
    "\n",
    "bt = Node(0, Node(1), Node(1, Node(1, Node(1), Node(1)), Node(0)))\n",
    "print(bt, '\\n  ', count_univals(bt))\n",
    "\n",
    "bt = Node(0, Node(1), Node(1, Node(1, Node(1), Node(1)), Node(1)))\n",
    "print(bt, '\\n  ', count_univals(bt))\n",
    "\n",
    "bt = Node(1, Node(1), Node(1, Node(1, Node(1), Node(1)), Node(1)))\n",
    "print(bt, '\\n  ', count_univals(bt))"
   ]
  }
 ],
 "metadata": {
  "kernelspec": {
   "display_name": "Python 3",
   "language": "python",
   "name": "python3"
  },
  "language_info": {
   "codemirror_mode": {
    "name": "ipython",
    "version": 3
   },
   "file_extension": ".py",
   "mimetype": "text/x-python",
   "name": "python",
   "nbconvert_exporter": "python",
   "pygments_lexer": "ipython3",
   "version": "3.8.5"
  }
 },
 "nbformat": 4,
 "nbformat_minor": 4
}
