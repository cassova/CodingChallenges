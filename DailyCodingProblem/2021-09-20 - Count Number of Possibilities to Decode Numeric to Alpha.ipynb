{
 "cells": [
  {
   "cell_type": "markdown",
   "metadata": {},
   "source": [
    "Good morning! Here's your coding interview problem for today.\n",
    "\n",
    "This problem was asked by Facebook.\n",
    "\n",
    "Given the mapping a = 1, b = 2, ... z = 26, and an encoded message, count the number of ways it can be decoded.\n",
    "\n",
    "For example, the message '111' would give 3, since it could be decoded as 'aaa', 'ka', and 'ak'.\n",
    "\n",
    "You can assume that the messages are decodable. For example, '001' is not allowed."
   ]
  },
  {
   "cell_type": "code",
   "execution_count": 1,
   "metadata": {},
   "outputs": [
    {
     "name": "stdout",
     "output_type": "stream",
     "text": [
      "1\n",
      "2\n",
      "3\n",
      "5\n",
      "1\n",
      "2\n"
     ]
    }
   ],
   "source": [
    "def decode_count(inp):\n",
    "    if len(inp)==0:\n",
    "        return 1\n",
    "    elif len(inp)==1 and 0 < int(inp) <= 9:\n",
    "        return decode_count(inp[1:])\n",
    "    elif 10 < int(inp[:2]) <= 26:\n",
    "        return decode_count(inp[1:]) + decode_count(inp[2:])\n",
    "    else:\n",
    "        return 0\n",
    "\n",
    "\n",
    "print(decode_count('1'))    # 1 - a\n",
    "print(decode_count('11'))   # 2 - aa,k\n",
    "print(decode_count('111'))  # 3 - aaa,ak,ka\n",
    "print(decode_count('1111')) # 5 - aaaa,kaa,aka,aak,kk\n",
    "print(decode_count('2020')) # 1 - tt\n",
    "print(decode_count('2120')) # 2 - ut, bat"
   ]
  },
  {
   "cell_type": "code",
   "execution_count": 2,
   "metadata": {},
   "outputs": [
    {
     "name": "stdout",
     "output_type": "stream",
     "text": [
      "1 - {'a'}\n",
      "2 - {'aa', 'k'}\n",
      "3 - {'ak', 'ka', 'aaa'}\n",
      "5 - {'kaa', 'aak', 'aka', 'kk', 'aaaa'}\n",
      "1 - {'tt'}\n",
      "2 - {'bat', 'ut'}\n"
     ]
    }
   ],
   "source": [
    "# Wrote this to check the above and practice my recursion...\n",
    "\n",
    "def num_decoder(inp, s='', outp=None):\n",
    "    if len(inp)==0:\n",
    "        if outp == None:\n",
    "            outp = set(s)\n",
    "        else:\n",
    "            outp.add(s)\n",
    "        return outp\n",
    "    elif len(inp)==1 and 0 < int(inp) <= 9:\n",
    "        return num_decoder('', s+chr(96+int(inp)), outp)\n",
    "    elif 10 < int(inp[:2]) <= 26:\n",
    "        if outp == None:\n",
    "            outp=set()\n",
    "        out1 = num_decoder(inp[1:], s+chr(96+int(inp[:1])), outp)\n",
    "        out2 = num_decoder(inp[2:], s+chr(96+int(inp[:2])), outp)\n",
    "        outp = outp | out1 | out2\n",
    "        return outp\n",
    "    else:\n",
    "        return set()\n",
    "    \n",
    "print(decode_count('1'),'-',num_decoder('1'))\n",
    "print(decode_count('11'),'-',num_decoder('11'))\n",
    "print(decode_count('111'),'-',num_decoder('111'))\n",
    "print(decode_count('1111'),'-',num_decoder('1111'))\n",
    "print(decode_count('2020'),'-',num_decoder('2020'))\n",
    "print(decode_count('2120'),'-',num_decoder('2120'))"
   ]
  }
 ],
 "metadata": {
  "kernelspec": {
   "display_name": "Python 3",
   "language": "python",
   "name": "python3"
  },
  "language_info": {
   "codemirror_mode": {
    "name": "ipython",
    "version": 3
   },
   "file_extension": ".py",
   "mimetype": "text/x-python",
   "name": "python",
   "nbconvert_exporter": "python",
   "pygments_lexer": "ipython3",
   "version": "3.8.5"
  }
 },
 "nbformat": 4,
 "nbformat_minor": 4
}
