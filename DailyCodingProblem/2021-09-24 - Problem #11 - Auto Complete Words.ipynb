{
 "cells": [
  {
   "cell_type": "markdown",
   "metadata": {},
   "source": [
    "Good morning! Here's your coding interview problem for today.\n",
    "\n",
    "This problem was asked by Twitter.\n",
    "\n",
    "Implement an autocomplete system. That is, given a query string s and a set of all possible query strings, return all strings in the set that have s as a prefix.\n",
    "\n",
    "For example, given the query string `de` and the set of strings `[dog, deer, deal]`, return `[deer, deal]`.\n",
    "\n",
    "Hint: Try preprocessing the dictionary into a more efficient data structure to speed up queries."
   ]
  },
  {
   "cell_type": "code",
   "execution_count": 1,
   "metadata": {},
   "outputs": [],
   "source": [
    "class AlphaTree():\n",
    "    CHARS=[chr(x) for x in range(ord('a'), ord('z')+1)]\n",
    "    \n",
    "    def __init__(self,s=None,is_word=False):\n",
    "        self.word = s\n",
    "        self.is_word = is_word\n",
    "        \n",
    "        # Initalize varibles a-z\n",
    "        self.__dict__.update((l, None) for l in self.CHARS)\n",
    "        \n",
    "    def autocomplete(self, word, i=0):\n",
    "        words = [self.word] if self.word != None and \\\n",
    "                               word==self.word[:len(word)] and \\\n",
    "                               self.is_word \\\n",
    "                            else []\n",
    "        if i<len(word):\n",
    "            if word[i] not in self.CHARS:\n",
    "                raise Exception(f\"Unsupported character '{word[i]}'\")\n",
    "            node=self.__dict__[word[i]]\n",
    "            if node != None:\n",
    "                words.extend(node.autocomplete(word,i+1))\n",
    "        else:\n",
    "            for l in self.CHARS:\n",
    "                node=self.__dict__[l]\n",
    "                if node != None:\n",
    "                    words.extend(node.autocomplete(word,i+1))\n",
    "        return words\n",
    "    \n",
    "    def add_word(self, word, i=0):\n",
    "        l=word[i]\n",
    "        if l not in self.CHARS:\n",
    "            raise Exception(f\"Unsupported character '{l}'\")\n",
    "        node=self.__dict__[l]\n",
    "        if node==None:\n",
    "            if i+1==len(word):\n",
    "                self.__dict__[l] = AlphaTree(word[:i+1],True)\n",
    "            else:\n",
    "                node=AlphaTree(word[:i+1],False)\n",
    "                node.add_word(word,i+1)\n",
    "                self.__dict__[l] = node\n",
    "        else:\n",
    "            if i+1==len(word):\n",
    "                node.is_word=True\n",
    "            else:\n",
    "                node.add_word(word,i+1)\n",
    "                \n",
    "def build_tree(words):\n",
    "    tree = AlphaTree()\n",
    "    for word in words:\n",
    "        tree.add_word(word)\n",
    "    return tree\n",
    "        \n",
    "words = ['dog', 'deer', 'deal', 'doh', 'do', 'ear']\n",
    "tree = build_tree(words)"
   ]
  },
  {
   "cell_type": "code",
   "execution_count": 2,
   "metadata": {},
   "outputs": [
    {
     "name": "stdout",
     "output_type": "stream",
     "text": [
      "d :: ['deal', 'deer', 'do', 'dog', 'doh']\n",
      "do :: ['do', 'dog', 'doh']\n",
      "doh :: ['doh']\n",
      "de :: ['deal', 'deer']\n",
      "di :: []\n",
      "e :: ['ear']\n"
     ]
    }
   ],
   "source": [
    "print(w:='d','::',tree.autocomplete(w))\n",
    "print(w:='do','::',tree.autocomplete(w))\n",
    "print(w:='doh','::',tree.autocomplete(w))\n",
    "print(w:='de','::',tree.autocomplete(w))\n",
    "print(w:='di','::',tree.autocomplete(w))\n",
    "print(w:='e','::',tree.autocomplete(w))"
   ]
  },
  {
   "cell_type": "code",
   "execution_count": 3,
   "metadata": {},
   "outputs": [
    {
     "name": "stdout",
     "output_type": "stream",
     "text": [
      "dog\n",
      "True\n"
     ]
    }
   ],
   "source": [
    "print(tree.d.o.g.word)\n",
    "print(tree.e.a.r.is_word)"
   ]
  },
  {
   "cell_type": "markdown",
   "metadata": {},
   "source": [
    "## Playing with Trees..."
   ]
  },
  {
   "cell_type": "code",
   "execution_count": 4,
   "metadata": {},
   "outputs": [
    {
     "data": {
      "text/plain": [
       "12"
      ]
     },
     "execution_count": 4,
     "metadata": {},
     "output_type": "execute_result"
    }
   ],
   "source": [
    "def count_nodes(node):\n",
    "    if node == None:\n",
    "        return 0\n",
    "    children=[chr(x) for x in range(ord('a'), ord('z')+1)]\n",
    "    count=0\n",
    "    for child in children:\n",
    "        child_node = node.__dict__.get(child, None)\n",
    "        if child_node!= None:\n",
    "            count += 1+count_nodes(child_node)\n",
    "    return count\n",
    "\n",
    "count_nodes(tree)"
   ]
  },
  {
   "cell_type": "code",
   "execution_count": 7,
   "metadata": {},
   "outputs": [
    {
     "name": "stdout",
     "output_type": "stream",
     "text": [
      "4 :: deal\n"
     ]
    }
   ],
   "source": [
    "def find_deepest_node(node, depth=0):\n",
    "    deepest_node = None\n",
    "    max_depth = 0\n",
    "    children=[chr(x) for x in range(ord('a'), ord('z')+1)]\n",
    "    children_nodes = []\n",
    "    for child in children:\n",
    "        child_node = node.__dict__.get(child, None)\n",
    "        if child_node != None:\n",
    "            children_nodes.append(child_node)\n",
    "    if len(children_nodes)==0:\n",
    "        return node,depth\n",
    "    else:\n",
    "        for child in children_nodes:\n",
    "            deep_node,found_depth = find_deepest_node(child, depth+1)\n",
    "            if found_depth>max_depth:\n",
    "                max_depth=found_depth\n",
    "                deepest_node = deep_node\n",
    "    return deepest_node, max_depth\n",
    "\n",
    "deepest, depth = find_deepest_node(tree)\n",
    "print(depth,'::', deepest.word)"
   ]
  }
 ],
 "metadata": {
  "kernelspec": {
   "display_name": "Python 3",
   "language": "python",
   "name": "python3"
  },
  "language_info": {
   "codemirror_mode": {
    "name": "ipython",
    "version": 3
   },
   "file_extension": ".py",
   "mimetype": "text/x-python",
   "name": "python",
   "nbconvert_exporter": "python",
   "pygments_lexer": "ipython3",
   "version": "3.8.5"
  }
 },
 "nbformat": 4,
 "nbformat_minor": 4
}
