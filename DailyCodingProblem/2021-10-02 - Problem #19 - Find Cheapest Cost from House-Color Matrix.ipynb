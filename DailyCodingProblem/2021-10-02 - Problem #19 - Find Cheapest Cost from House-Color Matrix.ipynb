{
 "cells": [
  {
   "cell_type": "markdown",
   "metadata": {},
   "source": [
    "Good morning! Here's your coding interview problem for today.\n",
    "\n",
    "This problem was asked by Facebook.\n",
    "\n",
    "A builder is looking to build a row of N houses that can be of K different colors. He has a goal of minimizing cost while ensuring that no two neighboring houses are of the same color.\n",
    "\n",
    "Given an N by K matrix where the nth row and kth column represents the cost to build the nth house with kth color, return the minimum cost which achieves this goal."
   ]
  },
  {
   "cell_type": "code",
   "execution_count": 1,
   "metadata": {},
   "outputs": [
    {
     "name": "stdout",
     "output_type": "stream",
     "text": [
      "Example 1: 19\n",
      "Example 2: 30\n",
      "Example 3: 5\n"
     ]
    }
   ],
   "source": [
    "def get_cheapest_build_price(cost_matrix):\n",
    "    \n",
    "    prev_cheapest=0\n",
    "    prev_second_cheapest=0\n",
    "    prev_cheapest_index=-1\n",
    "    \n",
    "    for i,N in enumerate(cost_matrix):\n",
    "        cheapest=-1\n",
    "        second_cheapest=-1\n",
    "        cheapest_index=-1\n",
    "        \n",
    "        for j in range(len(N)):\n",
    "            if j==prev_cheapest_index:\n",
    "                cost_matrix[i][j] += prev_second_cheapest\n",
    "            else:\n",
    "                cost_matrix[i][j] += prev_cheapest\n",
    "            \n",
    "            if cost_matrix[i][j]<cheapest or cheapest<0:\n",
    "                second_cheapest = cheapest\n",
    "                cheapest = cost_matrix[i][j]\n",
    "                cheapest_index = j\n",
    "            elif cost_matrix[i][j]<second_cheapest or second_cheapest<0:\n",
    "                second_cheapest = cost_matrix[i][j]\n",
    "        \n",
    "        prev_cheapest = cheapest\n",
    "        prev_second_cheapest = second_cheapest\n",
    "        prev_cheapest_index = cheapest_index\n",
    "        \n",
    "    return min(cost_matrix[-1])\n",
    "\n",
    "\n",
    "cost_example1 = [\n",
    "    [1,2,3,4,5],\n",
    "    [6,7,8,9,10],\n",
    "    [11,12,13,14,15]\n",
    "]\n",
    "print('Example 1:', get_cheapest_build_price(cost_example1))\n",
    "\n",
    "# The cheapest in this scenario would be to build:\n",
    "# N=0: k=0 --> cost = 1\n",
    "# N=1: k=1 --> cost = 7 (skip 6)\n",
    "# N=2: k=0 --> cost = 11  --> 19\n",
    "\n",
    "\n",
    "cost_example2 = [\n",
    "    [11,12,13,14,15],\n",
    "    [6,17,18,19,110],\n",
    "    [11,12,13,14,15]\n",
    "]\n",
    "print('Example 2:', get_cheapest_build_price(cost_example2))\n",
    "\n",
    "# The cheapest in this scenario would be to build:\n",
    "# N=0: k=1 --> cost = 12\n",
    "# N=1: k=0 --> cost = 6\n",
    "# N=2: k=1 --> cost = 12 --> 30\n",
    "\n",
    "\n",
    "cost_example3 = [\n",
    "    [8,3,2,1,4,2],\n",
    "    [2,4,1,3,5,6],\n",
    "    [3,6,1,2,4,5],\n",
    "    [3,6,1,2,4,5],\n",
    "]\n",
    "print('Example 3:', get_cheapest_build_price(cost_example3))\n",
    "\n",
    "# The cheapest in this scenario would be to build:\n",
    "# N=0: k=3 --> cost = 1\n",
    "# N=1: k=2 --> cost = 1\n",
    "# N=2: k=3 --> cost = 2\n",
    "# N=3: k=2 --> cost = 1 --> 5"
   ]
  }
 ],
 "metadata": {
  "kernelspec": {
   "display_name": "Python 3",
   "language": "python",
   "name": "python3"
  },
  "language_info": {
   "codemirror_mode": {
    "name": "ipython",
    "version": 3
   },
   "file_extension": ".py",
   "mimetype": "text/x-python",
   "name": "python",
   "nbconvert_exporter": "python",
   "pygments_lexer": "ipython3",
   "version": "3.8.5"
  }
 },
 "nbformat": 4,
 "nbformat_minor": 4
}
