{
 "cells": [
  {
   "cell_type": "markdown",
   "metadata": {},
   "source": [
    "Good morning! Here's your coding interview problem for today.\n",
    "\n",
    "This problem was asked by Google.\n",
    "\n",
    "Suppose we represent our file system by a string in the following manner:\n",
    "\n",
    "The string `\"dir\\n\\tsubdir1\\n\\tsubdir2\\n\\t\\tfile.ext\"` represents:\n",
    "\n",
    "```\n",
    "dir\n",
    "    subdir1\n",
    "    subdir2\n",
    "        file.ext\n",
    "```\n",
    "\n",
    "The directory `dir` contains an empty sub-directory `subdir1` and a sub-directory `subdir2` containing a file `file.ext`.\n",
    "\n",
    "The string `\"dir\\n\\tsubdir1\\n\\t\\tfile1.ext\\n\\t\\tsubsubdir1\\n\\tsubdir2\\n\\t\\tsubsubdir2\\n\\t\\t\\tfile2.ext\"` represents:\n",
    "\n",
    "```\n",
    "dir\n",
    "    subdir1\n",
    "        file1.ext\n",
    "        subsubdir1\n",
    "    subdir2\n",
    "        subsubdir2\n",
    "            file2.ext\n",
    "```\n",
    "\n",
    "The directory `dir` contains two sub-directories `subdir1` and `subdir2`. `subdir1` contains a file `file1.ext` and an empty second-level sub-directory `subsubdir1`. `subdir2` contains a second-level sub-directory `subsubdir2` containing a file `file2.ext`.\n",
    "\n",
    "We are interested in finding the longest (number of characters) absolute path to a file within our file system. For example, in the second example above, the longest absolute path is `\"dir/subdir2/subsubdir2/file2.ext\"`, and its length is 32 (not including the double quotes).\n",
    "\n",
    "Given a string representing the file system in the above format, return the length of the longest absolute path to a file in the abstracted file system. If there is no file in the system, return 0.\n",
    "\n",
    "Note:\n",
    "\n",
    "The name of a file contains at least a period and an extension.\n",
    "\n",
    "The name of a directory or sub-directory will not contain a period."
   ]
  },
  {
   "cell_type": "code",
   "execution_count": 1,
   "metadata": {},
   "outputs": [],
   "source": [
    "# String parsing solution\n",
    "def find_max_file_path(filesys_str):\n",
    "    s = filesys_str.split('\\n')\n",
    "    files = [(file,i) for i,file in enumerate(s) if file.find('.')>=0]\n",
    "    folders = [(folder,i) for i,folder in enumerate(s) if folder.find('.')<0]\n",
    "    max_file = ('',0)\n",
    "\n",
    "    for file,ida in files:\n",
    "        for folder,idb in reversed(folders):\n",
    "            if idb<ida and folder.count('\\t')+1 == file.count('\\t'):\n",
    "                file = file[file.rfind('\\t'):].replace('\\t',folder+'/')\n",
    "        if len(file)>max_file[1]:\n",
    "            max_file = (file,len(file))\n",
    "\n",
    "    return max_file"
   ]
  },
  {
   "cell_type": "code",
   "execution_count": 2,
   "metadata": {},
   "outputs": [
    {
     "name": "stdout",
     "output_type": "stream",
     "text": [
      "dir\n",
      "\tsubdir1\n",
      "\t\tfile1.ext\n",
      "\t\tsubsubdir1\n",
      "\tsubdir2\n",
      "\t\tsubsubdir2\n",
      "\t\t\tfile2.ext\n",
      "Max File Path Length: ('dir/subdir2/subsubdir2/file2.ext', 32)\n"
     ]
    }
   ],
   "source": [
    "filesys ='dir\\n\\tsubdir1\\n\\t\\tfile1.ext\\n\\t\\tsubsubdir1\\n\\tsubdir2\\n\\t\\tsubsubdir2\\n\\t\\t\\tfile2.ext'\n",
    "print(filesys)\n",
    "print('Max File Path Length:',find_max_file_path(filesys))"
   ]
  },
  {
   "cell_type": "code",
   "execution_count": 3,
   "metadata": {},
   "outputs": [
    {
     "name": "stdout",
     "output_type": "stream",
     "text": [
      "dir\n",
      "\tsubdir1\n",
      "\tsubdir2\n",
      "\t\tfile.ext\n",
      "Max File Path Length: ('dir/subdir2/file.ext', 20)\n"
     ]
    }
   ],
   "source": [
    "filesys ='dir\\n\\tsubdir1\\n\\tsubdir2\\n\\t\\tfile.ext'\n",
    "print(filesys)\n",
    "print('Max File Path Length:',find_max_file_path(filesys))"
   ]
  },
  {
   "cell_type": "code",
   "execution_count": 4,
   "metadata": {},
   "outputs": [
    {
     "name": "stdout",
     "output_type": "stream",
     "text": [
      "dir\n",
      "\tsubdir1\n",
      "\t\tsubsubdir1\n",
      "\t\tfile1_with_long_name.ext\n",
      "\tsubdir2\n",
      "\t\tsubsubdir2\n",
      "\t\t\tsubsubsubdir2\n",
      "\t\t\tfile2.ext\n",
      "Max File Path Length: ('dir/subdir1/file1_with_long_name.ext', 36)\n"
     ]
    }
   ],
   "source": [
    "filesys ='dir\\n\\tsubdir1\\n\\t\\tsubsubdir1\\n\\t\\tfile1_with_long_name.ext\\n\\tsubdir2\\n\\t\\tsubsubdir2\\n\\t\\t\\tsubsubsubdir2\\n\\t\\t\\tfile2.ext'\n",
    "print(filesys)\n",
    "print('Max File Path Length:',find_max_file_path(filesys))"
   ]
  }
 ],
 "metadata": {
  "kernelspec": {
   "display_name": "Python 3",
   "language": "python",
   "name": "python3"
  },
  "language_info": {
   "codemirror_mode": {
    "name": "ipython",
    "version": 3
   },
   "file_extension": ".py",
   "mimetype": "text/x-python",
   "name": "python",
   "nbconvert_exporter": "python",
   "pygments_lexer": "ipython3",
   "version": "3.8.5"
  }
 },
 "nbformat": 4,
 "nbformat_minor": 4
}
