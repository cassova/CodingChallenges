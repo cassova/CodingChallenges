{
 "cells": [
  {
   "cell_type": "markdown",
   "metadata": {},
   "source": [
    "Good morning! Here's your coding interview problem for today.\n",
    "\n",
    "This problem was asked by Twitter.\n",
    "\n",
    "You run an e-commerce website and want to record the last N order ids in a log. Implement a data structure to accomplish this, with the following API:\n",
    "\n",
    "- record(order_id): adds the order_id to the log\n",
    "- get_last(i): gets the ith last element from the log. i is guaranteed to be smaller than or equal to N.\n",
    "\n",
    "You should be as efficient with time and space as possible."
   ]
  },
  {
   "cell_type": "code",
   "execution_count": 1,
   "metadata": {},
   "outputs": [],
   "source": [
    "class OrderLog():\n",
    "    def __init__(self, max_size):\n",
    "        self.order_ids = []\n",
    "        self.max_size = max_size\n",
    "    def record(self, order_id):\n",
    "        self.order_ids.append(order_id)\n",
    "        if len(self.order_ids)>self.max_size:\n",
    "            self.order_ids=self.order_ids[1:]\n",
    "    def get_last(self, i):\n",
    "        return self.order_ids[-i]\n",
    "    def __repr__(self):\n",
    "        return str(self.order_ids)"
   ]
  },
  {
   "cell_type": "code",
   "execution_count": 2,
   "metadata": {},
   "outputs": [
    {
     "data": {
      "text/plain": [
       "'Order07'"
      ]
     },
     "execution_count": 2,
     "metadata": {},
     "output_type": "execute_result"
    }
   ],
   "source": [
    "log = OrderLog(3)\n",
    "log.record('Order01')\n",
    "log.record('Order02')\n",
    "log.record('Order03')\n",
    "log.record('Order04')\n",
    "log.record('Order05')\n",
    "log.record('Order06')\n",
    "log.record('Order07')\n",
    "log.record('Order08')\n",
    "\n",
    "log.get_last(2)"
   ]
  },
  {
   "cell_type": "code",
   "execution_count": 3,
   "metadata": {},
   "outputs": [
    {
     "name": "stdout",
     "output_type": "stream",
     "text": [
      "['Order06', 'Order07', 'Order08']\n"
     ]
    }
   ],
   "source": [
    "print(log)"
   ]
  }
 ],
 "metadata": {
  "kernelspec": {
   "display_name": "Python 3",
   "language": "python",
   "name": "python3"
  },
  "language_info": {
   "codemirror_mode": {
    "name": "ipython",
    "version": 3
   },
   "file_extension": ".py",
   "mimetype": "text/x-python",
   "name": "python",
   "nbconvert_exporter": "python",
   "pygments_lexer": "ipython3",
   "version": "3.8.5"
  }
 },
 "nbformat": 4,
 "nbformat_minor": 4
}
