{
 "cells": [
  {
   "cell_type": "markdown",
   "metadata": {},
   "source": [
    "Good morning! Here's your coding interview problem for today.\n",
    "\n",
    "This problem was asked by Google.\n",
    "\n",
    "An XOR linked list is a more memory efficient doubly linked list. Instead of each node holding next and prev fields, it holds a field named both, which is an XOR of the next node and the previous node. Implement an XOR linked list; it has an add(element) which adds the element to the end, and a get(index) which returns the node at index.\n",
    "\n",
    "If using a language that has no pointers (such as Python), you can assume you have access to get_pointer and dereference_pointer functions that converts between nodes and memory addresses."
   ]
  },
  {
   "cell_type": "code",
   "execution_count": 1,
   "metadata": {},
   "outputs": [],
   "source": [
    "class Node():\n",
    "    def __init__(self,value,both):\n",
    "        self.value = value\n",
    "        self.both = both\n",
    "        \n",
    "        \n",
    "class XORLinkedList():\n",
    "    def __init__(self):\n",
    "        self.first = None\n",
    "        self.second = None\n",
    "        \n",
    "    def add(self, value):\n",
    "        if self.first == None:\n",
    "            self.first = Node(value)\n",
    "        elif self.second == None:\n",
    "            self.second = Node(value,get_pointer(first))\n",
    "            # Update previous\n",
    "            self.first.both = get_pointer(self.second)\n",
    "        else:\n",
    "            # go to the end of the list\n",
    "            prev_node = self.first\n",
    "            curr_node = self.second\n",
    "            next_node = dereference_pointer(curr_node.both ^ get_pointer(prev_node))\n",
    "            while next_node != None:\n",
    "                prev_node = curr_node\n",
    "                curr_node = next_node\n",
    "                next_node = dereference_pointer(curr_node.both ^ get_pointer(prev_node))\n",
    "            next_node = Node(value, get_pointer(curr_node))\n",
    "            # Update previous\n",
    "            curr_node.both = get_pointer(prev_node) ^ get_pointer(next_node)\n",
    "            \n",
    "    def get(self, index):\n",
    "        if index==0:\n",
    "            return self.first\n",
    "        elif index==1:\n",
    "            return self.second\n",
    "        else:\n",
    "            # go to the end of the list\n",
    "            prev_node = self.first\n",
    "            curr_node = self.second\n",
    "            next_node = dereference_pointer(curr_node.both ^ get_pointer(prev_node))\n",
    "            i=1\n",
    "            while next_node != None or i==index:\n",
    "                prev_node = curr_node\n",
    "                curr_node = next_node\n",
    "                next_node = dereference_pointer(curr_node.both ^ get_pointer(prev_node))\n",
    "                i+=1\n",
    "            if i==index:\n",
    "                return curr_node\n",
    "            else:\n",
    "                return None\n",
    "        \n",
    "    def get_pointer(self,node):\n",
    "        # dummy implementation - returns address of node\n",
    "        raise NotImplementedError\n",
    "        \n",
    "    def dereference_pointer(self,address):\n",
    "        # dummy implementation - returns node at the address\n",
    "        raise NotImplementedError"
   ]
  }
 ],
 "metadata": {
  "kernelspec": {
   "display_name": "Python 3",
   "language": "python",
   "name": "python3"
  },
  "language_info": {
   "codemirror_mode": {
    "name": "ipython",
    "version": 3
   },
   "file_extension": ".py",
   "mimetype": "text/x-python",
   "name": "python",
   "nbconvert_exporter": "python",
   "pygments_lexer": "ipython3",
   "version": "3.8.5"
  }
 },
 "nbformat": 4,
 "nbformat_minor": 4
}
