{
 "cells": [
  {
   "cell_type": "markdown",
   "metadata": {},
   "source": [
    "Good morning! Here's your coding interview problem for today.\n",
    "\n",
    "This problem was asked by Snapchat.\n",
    "\n",
    "Given an array of time intervals (start, end) for classroom lectures (possibly overlapping), find the minimum number of rooms required.\n",
    "\n",
    "For example, given [(30, 75), (0, 50), (60, 150)], you should return 2."
   ]
  },
  {
   "cell_type": "code",
   "execution_count": 1,
   "metadata": {},
   "outputs": [
    {
     "data": {
      "text/plain": [
       "2"
      ]
     },
     "execution_count": 1,
     "metadata": {},
     "output_type": "execute_result"
    }
   ],
   "source": [
    "def find_minimum_rooms(classes):\n",
    "    rooms=[]\n",
    "    for c in classes:\n",
    "        if len(rooms)==0:\n",
    "            rooms.append([c])\n",
    "        else:\n",
    "            found_room=False\n",
    "            for r in rooms:\n",
    "                fit_in_room=True\n",
    "                for s in r:\n",
    "                    if s[0]<=c[0]<s[1] or s[0]<c[1]<=s[1]:\n",
    "                        fit_in_room=False\n",
    "                        break\n",
    "                if fit_in_room:\n",
    "                    found_room=True\n",
    "                    r.append(c)\n",
    "                    break\n",
    "            if not found_room:\n",
    "                rooms.append([c])\n",
    "    return len(rooms)\n",
    "\n",
    "find_minimum_rooms([(30, 75), (0, 50), (60, 150)])"
   ]
  }
 ],
 "metadata": {
  "kernelspec": {
   "display_name": "Python 3",
   "language": "python",
   "name": "python3"
  },
  "language_info": {
   "codemirror_mode": {
    "name": "ipython",
    "version": 3
   },
   "file_extension": ".py",
   "mimetype": "text/x-python",
   "name": "python",
   "nbconvert_exporter": "python",
   "pygments_lexer": "ipython3",
   "version": "3.8.5"
  }
 },
 "nbformat": 4,
 "nbformat_minor": 4
}
