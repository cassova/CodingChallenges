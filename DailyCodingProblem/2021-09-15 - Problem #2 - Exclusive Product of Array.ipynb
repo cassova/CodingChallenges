{
 "cells": [
  {
   "cell_type": "markdown",
   "metadata": {},
   "source": [
    "Good morning! Here's your coding interview problem for today.\n",
    "\n",
    "This problem was asked by Uber.\n",
    "\n",
    "Given an array of integers, return a new array such that each element at index i of the new array is the product of all the numbers in the original array except the one at i.\n",
    "\n",
    "For example, if our input was [1, 2, 3, 4, 5], the expected output would be [120, 60, 40, 30, 24]. If our input was [3, 2, 1], the expected output would be [2, 3, 6].\n",
    "\n",
    "Follow-up: what if you can't use division?"
   ]
  },
  {
   "cell_type": "code",
   "execution_count": 1,
   "metadata": {},
   "outputs": [
    {
     "name": "stdout",
     "output_type": "stream",
     "text": [
      "[120.0, 60.0, 40.0, 30.0, 24.0]\n",
      "[2.0, 3.0, 6.0]\n"
     ]
    }
   ],
   "source": [
    "def exclusive_prod_std(arr):\n",
    "    prod=1\n",
    "    for a in arr:\n",
    "        prod *= a\n",
    "    for i,a in enumerate(arr):\n",
    "        arr[i] = prod/a\n",
    "    return arr\n",
    "\n",
    "print(exclusive_prod_std([1,2,3,4,5]))\n",
    "print(exclusive_prod_std([3,2,1]))"
   ]
  },
  {
   "cell_type": "markdown",
   "metadata": {},
   "source": [
    "### Vectorization solution"
   ]
  },
  {
   "cell_type": "code",
   "execution_count": 2,
   "metadata": {},
   "outputs": [
    {
     "name": "stdout",
     "output_type": "stream",
     "text": [
      "[120.  60.  40.  30.  24.]\n",
      "[2. 3. 6.]\n"
     ]
    }
   ],
   "source": [
    "import numpy as np\n",
    "\n",
    "def exclusive_prod_np(arr):\n",
    "    arr = np.prod(arr)/arr\n",
    "    return arr\n",
    "\n",
    "print(exclusive_prod_np([1,2,3,4,5]))\n",
    "print(exclusive_prod_np([3,2,1]))"
   ]
  },
  {
   "cell_type": "markdown",
   "metadata": {},
   "source": [
    "### Without division - The long way..."
   ]
  },
  {
   "cell_type": "code",
   "execution_count": 3,
   "metadata": {},
   "outputs": [
    {
     "name": "stdout",
     "output_type": "stream",
     "text": [
      "[120, 60, 40, 30, 24]\n",
      "[2, 3, 6]\n"
     ]
    }
   ],
   "source": [
    "def exclusive_prod_wod_std(arr):\n",
    "    new_arr = [1]*len(arr)\n",
    "    for i in range(len(arr)):\n",
    "        prod = 1\n",
    "        for j in range(len(arr)):\n",
    "            if i!=j:\n",
    "                prod*=arr[j]\n",
    "        new_arr[i] = prod\n",
    "    return new_arr\n",
    "\n",
    "print(exclusive_prod_wod_std([1,2,3,4,5]))\n",
    "print(exclusive_prod_wod_std([3,2,1]))"
   ]
  },
  {
   "cell_type": "markdown",
   "metadata": {},
   "source": [
    "### Without division - recursive but ugly but still slow"
   ]
  },
  {
   "cell_type": "code",
   "execution_count": 4,
   "metadata": {},
   "outputs": [
    {
     "name": "stdout",
     "output_type": "stream",
     "text": [
      "[120, 60, 40, 30, 24]\n",
      "[2, 3, 6]\n"
     ]
    }
   ],
   "source": [
    "def get_upper_prod(arr,i=0,memo={}):\n",
    "    if i in memo.keys():\n",
    "        return memo[i],memo\n",
    "    if len(arr)==0:\n",
    "        memo[i]=1\n",
    "        return 1,memo\n",
    "    r,_ = get_upper_prod(arr[1:],i+1,memo)\n",
    "    prod = arr[0] * r\n",
    "    memo[i]=prod\n",
    "    return prod, memo\n",
    "\n",
    "def get_lower_prod(arr,i=0,memo={}):\n",
    "    if i in memo.keys():\n",
    "        return memo[i],memo\n",
    "    if len(arr)==0:\n",
    "        memo[i]=1\n",
    "        return 1,memo\n",
    "    r,_ = get_lower_prod(arr[:-1],i-1,memo)\n",
    "    prod = arr[-1] * r\n",
    "    memo[i]=prod\n",
    "    return prod, memo\n",
    "\n",
    "def get_exclusive_prod_rec(arr):\n",
    "    lower_memo = {}\n",
    "    upper_memo = {}\n",
    "    new_arr = [1]*len(arr)\n",
    "    for i in range(len(arr)):\n",
    "        if i in lower_memo.keys():\n",
    "            lower_prod = lower_memo[i]\n",
    "        else:\n",
    "            lower_prod, lower_memo = get_lower_prod(arr[0:i],i,lower_memo)\n",
    "        if i in upper_memo.keys():\n",
    "            upper_prod = upper_memo[i]\n",
    "        else:\n",
    "            upper_prod, upper_memo = get_upper_prod(arr[i+1:],i,upper_memo)\n",
    "        #print(f'{i} = {lower_prod} x {upper_prod}')\n",
    "        new_arr[i]=lower_prod*upper_prod\n",
    "    return new_arr\n",
    "\n",
    "print(get_exclusive_prod_rec([1,2,3,4,5]))\n",
    "print(get_exclusive_prod_rec([3,2,1]))"
   ]
  },
  {
   "cell_type": "markdown",
   "metadata": {},
   "source": [
    "# Timings..."
   ]
  },
  {
   "cell_type": "code",
   "execution_count": 5,
   "metadata": {},
   "outputs": [
    {
     "name": "stdout",
     "output_type": "stream",
     "text": [
      "208 µs ± 1.61 µs per loop (mean ± std. dev. of 7 runs, 1000 loops each)\n",
      "84.1 µs ± 234 ns per loop (mean ± std. dev. of 7 runs, 10000 loops each)\n",
      "102 ms ± 266 µs per loop (mean ± std. dev. of 7 runs, 10 loops each)\n",
      "5.9 ms ± 100 µs per loop (mean ± std. dev. of 7 runs, 100 loops each)\n"
     ]
    }
   ],
   "source": [
    "%timeit exclusive_prod_std([2]*1000)\n",
    "%timeit exclusive_prod_np([2]*1000)\n",
    "%timeit exclusive_prod_wod_std([2]*1000)\n",
    "%timeit get_exclusive_prod_rec([2]*1000)"
   ]
  }
 ],
 "metadata": {
  "kernelspec": {
   "display_name": "Python 3",
   "language": "python",
   "name": "python3"
  },
  "language_info": {
   "codemirror_mode": {
    "name": "ipython",
    "version": 3
   },
   "file_extension": ".py",
   "mimetype": "text/x-python",
   "name": "python",
   "nbconvert_exporter": "python",
   "pygments_lexer": "ipython3",
   "version": "3.8.5"
  }
 },
 "nbformat": 4,
 "nbformat_minor": 4
}
