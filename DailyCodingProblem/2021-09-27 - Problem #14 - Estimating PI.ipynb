{
 "cells": [
  {
   "cell_type": "markdown",
   "metadata": {},
   "source": [
    "Good morning! Here's your coding interview problem for today.\n",
    "\n",
    "This problem was asked by Google.\n",
    "\n",
    "The area of a circle is defined as $\\pi r^2$. Estimate π to 3 decimal places using a Monte Carlo method.\n",
    "\n",
    "Hint: The basic equation of a circle is $x^2 + y^2 = r^2$."
   ]
  },
  {
   "cell_type": "code",
   "execution_count": 1,
   "metadata": {},
   "outputs": [
    {
     "name": "stdout",
     "output_type": "stream",
     "text": [
      "Wall time: 4.07 s\n"
     ]
    },
    {
     "data": {
      "text/plain": [
       "3.1405764"
      ]
     },
     "execution_count": 1,
     "metadata": {},
     "output_type": "execute_result"
    }
   ],
   "source": [
    "import random\n",
    "\n",
    "def estimate_pi(cnt=10000000):\n",
    "    in_cnt = 0\n",
    "    \n",
    "    for _ in range(cnt):\n",
    "        x,y = random.random(),random.random()\n",
    "        if (x**2+y**2)<1:\n",
    "            in_cnt += 1\n",
    "    return in_cnt/cnt * 4\n",
    "\n",
    "%time estimate_pi()"
   ]
  },
  {
   "cell_type": "code",
   "execution_count": 2,
   "metadata": {},
   "outputs": [
    {
     "name": "stdout",
     "output_type": "stream",
     "text": [
      "Wall time: 228 ms\n"
     ]
    },
    {
     "data": {
      "text/plain": [
       "3.1413028"
      ]
     },
     "execution_count": 2,
     "metadata": {},
     "output_type": "execute_result"
    }
   ],
   "source": [
    "import numpy as np\n",
    "\n",
    "def estimate_pi_numpy(cnt=10000000):\n",
    "    return ((np.random.rand(cnt,2)**2).sum(axis=1)<1).sum()/cnt*4\n",
    "\n",
    "%time estimate_pi_numpy()"
   ]
  }
 ],
 "metadata": {
  "kernelspec": {
   "display_name": "Python 3",
   "language": "python",
   "name": "python3"
  },
  "language_info": {
   "codemirror_mode": {
    "name": "ipython",
    "version": 3
   },
   "file_extension": ".py",
   "mimetype": "text/x-python",
   "name": "python",
   "nbconvert_exporter": "python",
   "pygments_lexer": "ipython3",
   "version": "3.8.5"
  }
 },
 "nbformat": 4,
 "nbformat_minor": 4
}
