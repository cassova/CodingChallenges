{
 "cells": [
  {
   "cell_type": "markdown",
   "metadata": {},
   "source": [
    "Good morning! Here's your coding interview problem for today.\n",
    "\n",
    "This problem was asked by Google.\n",
    "\n",
    "Given the root to a binary tree, implement serialize(root), which serializes the tree into a string, and deserialize(s), which deserializes the string back into the tree.\n",
    "\n",
    "For example, given the following Node class\n",
    "\n",
    "```\n",
    "class Node:\n",
    "    def __init__(self, val, left=None, right=None):\n",
    "        self.val = val\n",
    "        self.left = left\n",
    "        self.right = right\n",
    "```\n",
    "\n",
    "The following test should pass:\n",
    "\n",
    "```\n",
    "node = Node('root', Node('left', Node('left.left')), Node('right'))\n",
    "assert deserialize(serialize(node)).left.left.val == 'left.left'\n",
    "```"
   ]
  },
  {
   "cell_type": "code",
   "execution_count": 1,
   "metadata": {},
   "outputs": [],
   "source": [
    "class Node:\n",
    "    def __init__(self, val, left=None, right=None):\n",
    "        self.val = val\n",
    "        self.left = left\n",
    "        self.right = right\n",
    "node = Node('root', Node('left', Node('left.left')), Node('right'))"
   ]
  },
  {
   "cell_type": "markdown",
   "metadata": {},
   "source": [
    "Visual\n",
    "```\n",
    "        root\n",
    "        / \\\n",
    "     left  right   \n",
    "     /\n",
    " left.left\n",
    "```"
   ]
  },
  {
   "cell_type": "code",
   "execution_count": 2,
   "metadata": {},
   "outputs": [],
   "source": [
    "def serialize(node):\n",
    "    if node is None:\n",
    "        return ''\n",
    "    layer = f'({node.val},{serialize(node.left)},{serialize(node.right)})'\n",
    "    return layer\n",
    "\n",
    "\n",
    "def deserialize(string):\n",
    "    if len(string)<3:\n",
    "        return None\n",
    "    \n",
    "    left_start = string.index(',')+1\n",
    "    root_val = string[1:left_start-1]\n",
    "    \n",
    "    i,l= 0,0\n",
    "    while True:\n",
    "        if left_start+i>len(string)-1:\n",
    "            break\n",
    "        if string[left_start+i] =='(':\n",
    "            l+=1\n",
    "        elif string[left_start+i] ==')':\n",
    "            l-=1\n",
    "            if l==0:\n",
    "                break\n",
    "        i+=1\n",
    "    left_str = string[left_start:left_start+i+1]\n",
    "    right_str = string[left_start+i+2:-1]\n",
    "    node = Node(root_val, deserialize(left_str), deserialize(right_str))\n",
    "    return node"
   ]
  },
  {
   "cell_type": "code",
   "execution_count": 3,
   "metadata": {},
   "outputs": [
    {
     "name": "stdout",
     "output_type": "stream",
     "text": [
      "Serialized string: (root,(left,(left.left,,),),(right,,)) \n",
      "\n",
      "Deserialized string: left.left\n"
     ]
    }
   ],
   "source": [
    "node = Node('root', Node('left', Node('left.left')), Node('right'))\n",
    "\n",
    "string = serialize(node)\n",
    "print('Serialized string:', string,'\\n')\n",
    "\n",
    "node = deserialize(string)\n",
    "print('Deserialized string:', node.left.left.val)"
   ]
  },
  {
   "cell_type": "code",
   "execution_count": 4,
   "metadata": {},
   "outputs": [],
   "source": [
    "assert deserialize(serialize(node)).left.left.val == 'left.left'"
   ]
  }
 ],
 "metadata": {
  "kernelspec": {
   "display_name": "Python 3",
   "language": "python",
   "name": "python3"
  },
  "language_info": {
   "codemirror_mode": {
    "name": "ipython",
    "version": 3
   },
   "file_extension": ".py",
   "mimetype": "text/x-python",
   "name": "python",
   "nbconvert_exporter": "python",
   "pygments_lexer": "ipython3",
   "version": "3.8.5"
  }
 },
 "nbformat": 4,
 "nbformat_minor": 4
}
