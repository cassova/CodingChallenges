{
 "cells": [
  {
   "cell_type": "markdown",
   "metadata": {},
   "source": [
    "Good morning! Here's your coding interview problem for today.\n",
    "\n",
    "This problem was asked by Facebook.\n",
    "\n",
    "Given a stream of elements too large to store in memory, pick a random element from the stream with uniform probability."
   ]
  },
  {
   "cell_type": "code",
   "execution_count": 1,
   "metadata": {},
   "outputs": [],
   "source": [
    "# Reservoir Sampling\n",
    "# Found this article helpful https://www.dailycodingproblem.com/blog/how-to-pick-a-random-element-from-an-infinite-stream/\n",
    "\n",
    "import random\n",
    "\n",
    "def pick_random_from_stream(iterator, last_idx=-1):\n",
    "    while True:\n",
    "        try:\n",
    "            next_val = next(iterator)\n",
    "        except:\n",
    "            raise Exception('No more elements in stream..')\n",
    "        last_idx += 1\n",
    "        if last_idx==0:\n",
    "            return next_val,last_idx\n",
    "        elif random.randint(1,last_idx+1) == 1:\n",
    "            return next_val,last_idx\n"
   ]
  },
  {
   "cell_type": "code",
   "execution_count": 2,
   "metadata": {},
   "outputs": [
    {
     "name": "stdout",
     "output_type": "stream",
     "text": [
      "Random:  0\n",
      "Random:  3\n",
      "Random:  42\n",
      "Random:  48\n",
      "Random:  261\n"
     ]
    }
   ],
   "source": [
    "random.seed(0)\n",
    "stream = iter(range(1000))\n",
    "\n",
    "num, last_idx = pick_random_from_stream(stream)\n",
    "print('Random: ', num)\n",
    "\n",
    "num, last_idx = pick_random_from_stream(stream,last_idx)\n",
    "print('Random: ', num)\n",
    "\n",
    "num, last_idx = pick_random_from_stream(stream,last_idx)\n",
    "print('Random: ', num)\n",
    "\n",
    "num, last_idx = pick_random_from_stream(stream,last_idx)\n",
    "print('Random: ', num)\n",
    "\n",
    "num, last_idx = pick_random_from_stream(stream,last_idx)\n",
    "print('Random: ', num)"
   ]
  },
  {
   "cell_type": "code",
   "execution_count": 3,
   "metadata": {},
   "outputs": [
    {
     "name": "stdout",
     "output_type": "stream",
     "text": [
      "8 :: No more elements in stream..\n",
      "9 :: No more elements in stream..\n",
      "\n",
      "The first 10 random numbers: [0, 3, 42, 48, 261, 282, 546, 814, -1, -1]\n"
     ]
    }
   ],
   "source": [
    "random.seed(0)\n",
    "stream = iter(range(1000))\n",
    "\n",
    "random_numbers = []\n",
    "last_idx = -1\n",
    "count = 10\n",
    "\n",
    "for i in range(count):\n",
    "    try:\n",
    "        num, last_idx = pick_random_from_stream(stream,last_idx)\n",
    "        random_numbers.append(num)\n",
    "    except Exception as e:\n",
    "        print(i,'::',e)\n",
    "        random_numbers.append(-1)\n",
    "\n",
    "print(f'\\nThe first {count} random numbers:', random_numbers)"
   ]
  }
 ],
 "metadata": {
  "kernelspec": {
   "display_name": "Python 3",
   "language": "python",
   "name": "python3"
  },
  "language_info": {
   "codemirror_mode": {
    "name": "ipython",
    "version": 3
   },
   "file_extension": ".py",
   "mimetype": "text/x-python",
   "name": "python",
   "nbconvert_exporter": "python",
   "pygments_lexer": "ipython3",
   "version": "3.8.5"
  }
 },
 "nbformat": 4,
 "nbformat_minor": 4
}
