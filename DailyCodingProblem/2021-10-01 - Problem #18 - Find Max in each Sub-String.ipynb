{
 "cells": [
  {
   "cell_type": "markdown",
   "metadata": {},
   "source": [
    "Good morning! Here's your coding interview problem for today.\n",
    "\n",
    "This problem was asked by Google.\n",
    "\n",
    "Given an array of integers and a number k, where 1 <= k <= length of the array, compute the maximum values of each subarray of length k.\n",
    "\n",
    "For example, given array = [10, 5, 2, 7, 8, 7] and k = 3, we should get: [10, 7, 8, 8], since:\n",
    "\n",
    "- 10 = max(10, 5, 2)\n",
    "- 7 = max(5, 2, 7)\n",
    "- 8 = max(2, 7, 8)\n",
    "- 8 = max(7, 8, 7)\n",
    "\n",
    "Do this in O(n) time and O(k) space. You can modify the input array in-place and you do not need to store the results. You can simply print them out as you compute them."
   ]
  },
  {
   "cell_type": "code",
   "execution_count": 1,
   "metadata": {},
   "outputs": [
    {
     "data": {
      "text/plain": [
       "array([10,  7,  8,  8])"
      ]
     },
     "execution_count": 1,
     "metadata": {},
     "output_type": "execute_result"
    }
   ],
   "source": [
    "import numpy as np\n",
    "\n",
    "def find_max_with_numpy(arr, k):\n",
    "    arr = np.array(arr)\n",
    "    for i in range(k-1):\n",
    "        arr = np.max([arr, np.roll(arr,-1)],axis=0)\n",
    "    return arr[:len(arr)-k+1]\n",
    "\n",
    "find_max_with_numpy([10, 5, 2, 7, 8, 7], 3)\n",
    "\n",
    "# Time complexity = O(n) - for building the numpy array.  drop the k since it's always equal to or smaller than n\n",
    "# Space complexity = O(1)"
   ]
  },
  {
   "cell_type": "code",
   "execution_count": 2,
   "metadata": {},
   "outputs": [
    {
     "name": "stdout",
     "output_type": "stream",
     "text": [
      "10\n",
      "7\n",
      "8\n",
      "8\n"
     ]
    }
   ],
   "source": [
    "def find_max(arr, k):\n",
    "    for i in range(len(arr)-k+1):\n",
    "        print(max(arr[i:i+k]))\n",
    "        \n",
    "find_max([10, 5, 2, 7, 8, 7], 3)\n",
    "\n",
    "# Time complexity = O(n*k)\n",
    "# Space complexity = O(1)"
   ]
  }
 ],
 "metadata": {
  "kernelspec": {
   "display_name": "Python 3",
   "language": "python",
   "name": "python3"
  },
  "language_info": {
   "codemirror_mode": {
    "name": "ipython",
    "version": 3
   },
   "file_extension": ".py",
   "mimetype": "text/x-python",
   "name": "python",
   "nbconvert_exporter": "python",
   "pygments_lexer": "ipython3",
   "version": "3.8.5"
  }
 },
 "nbformat": 4,
 "nbformat_minor": 4
}
