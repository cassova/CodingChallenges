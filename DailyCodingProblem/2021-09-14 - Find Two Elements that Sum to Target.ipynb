{
 "cells": [
  {
   "cell_type": "markdown",
   "metadata": {},
   "source": [
    "Good morning! Here's your coding interview problem for today.\n",
    "\n",
    "This problem was recently asked by Google.\n",
    "\n",
    "Given a list of numbers and a number k, return whether any two numbers from the list add up to k.\n",
    "\n",
    "For example, given [10, 15, 3, 7] and k of 17, return true since 10 + 7 is 17.\n",
    "\n",
    "Bonus: Can you do this in one pass?"
   ]
  },
  {
   "cell_type": "code",
   "execution_count": 1,
   "metadata": {},
   "outputs": [
    {
     "name": "stdout",
     "output_type": "stream",
     "text": [
      "Answer: 10 + 7 = 17\n"
     ]
    }
   ],
   "source": [
    "arr = [10,15,3,7]\n",
    "k = 17\n",
    "\n",
    "\n",
    "def find_sum(arr,k):\n",
    "    i,j=0,0\n",
    "    while True:\n",
    "        j+=1\n",
    "        if i>=len(arr):\n",
    "            print('Answer: False')\n",
    "            break\n",
    "        if j>=len(arr):\n",
    "            i+=1\n",
    "            j=i\n",
    "        elif arr[j]+arr[i]==k:\n",
    "            print(f'Answer: {arr[i]} + {arr[j]} = {k}')\n",
    "            break\n",
    "            \n",
    "find_sum(arr,k)"
   ]
  },
  {
   "cell_type": "code",
   "execution_count": 2,
   "metadata": {},
   "outputs": [
    {
     "name": "stdout",
     "output_type": "stream",
     "text": [
      "Answer: 15 + 2 = 17\n",
      "Answer: 10 + 7 = 17\n",
      "Answer: 9 + 8 = 17\n",
      "Answer: False\n"
     ]
    }
   ],
   "source": [
    "arrays = [[10,15,3,2],\n",
    "          [2,10,5,7],\n",
    "          [3]*10000+[9,8],\n",
    "          [3]*10000,\n",
    "         ]\n",
    "k = 17\n",
    "\n",
    "for arr in arrays:\n",
    "    find_sum(arr,k)"
   ]
  },
  {
   "cell_type": "markdown",
   "metadata": {},
   "source": [
    "### Using numpy's vectorization"
   ]
  },
  {
   "cell_type": "code",
   "execution_count": 17,
   "metadata": {},
   "outputs": [
    {
     "data": {
      "text/plain": [
       "True"
      ]
     },
     "execution_count": 17,
     "metadata": {},
     "output_type": "execute_result"
    }
   ],
   "source": [
    "import numpy as np\n",
    "\n",
    "arr = [10,15,3,7]\n",
    "k = 17\n",
    "\n",
    "def find_sum_np(arr, k):\n",
    "    arr = np.array(arr)\n",
    "    intersection = np.intersect1d(k-arr,arr)\n",
    "    if len(intersection)>=2:\n",
    "        return True\n",
    "    else:\n",
    "        return False\n",
    "    \n",
    "find_sum_np(arr,k)"
   ]
  },
  {
   "cell_type": "code",
   "execution_count": 19,
   "metadata": {},
   "outputs": [
    {
     "name": "stdout",
     "output_type": "stream",
     "text": [
      "True\n",
      "True\n",
      "True\n",
      "False\n"
     ]
    }
   ],
   "source": [
    "arrays = [[10,15,3,2],\n",
    "          [2,10,5,7],\n",
    "          [3]*10000+[9,8],\n",
    "          [3]*10000,\n",
    "         ]\n",
    "k = 17\n",
    "\n",
    "for arr in arrays:\n",
    "    print(find_sum_np(arr,k))"
   ]
  }
 ],
 "metadata": {
  "kernelspec": {
   "display_name": "Python 3",
   "language": "python",
   "name": "python3"
  },
  "language_info": {
   "codemirror_mode": {
    "name": "ipython",
    "version": 3
   },
   "file_extension": ".py",
   "mimetype": "text/x-python",
   "name": "python",
   "nbconvert_exporter": "python",
   "pygments_lexer": "ipython3",
   "version": "3.8.5"
  }
 },
 "nbformat": 4,
 "nbformat_minor": 4
}
