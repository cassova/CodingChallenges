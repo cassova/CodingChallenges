{
 "cells": [
  {
   "cell_type": "code",
   "execution_count": 28,
   "metadata": {},
   "outputs": [],
   "source": [
    "import numpy as np  # used to generate array\n",
    "\n",
    "start = 1\n",
    "end = 1000\n",
    "numbers = np.arange(start,end)\n",
    "np.random.shuffle(numbers)\n",
    "numbers = list(numbers)"
   ]
  },
  {
   "cell_type": "code",
   "execution_count": 36,
   "metadata": {},
   "outputs": [],
   "source": [
    "def minimumSwaps(arr):\n",
    "    swaps=0\n",
    "    i=0\n",
    "    mx=len(arr)\n",
    "    while True:\n",
    "        j=i+1\n",
    "        if i >= len(arr)-1:\n",
    "            break\n",
    "        if arr[i] != j:\n",
    "            x=j\n",
    "            x=arr.index(j,j,mx)\n",
    "            arr[x]=arr[i]\n",
    "            if arr[mx-1] == mx:\n",
    "                mx -= 1\n",
    "            swaps += 1\n",
    "        i += 1\n",
    "    return swaps"
   ]
  },
  {
   "cell_type": "code",
   "execution_count": 37,
   "metadata": {},
   "outputs": [
    {
     "name": "stdout",
     "output_type": "stream",
     "text": [
      "25.7 ms ± 48.6 µs per loop (mean ± std. dev. of 7 runs, 10 loops each)\n"
     ]
    }
   ],
   "source": [
    "%%timeit\n",
    "arr = numbers.copy()\n",
    "minimumSwaps(arr)"
   ]
  },
  {
   "cell_type": "code",
   "execution_count": 38,
   "metadata": {},
   "outputs": [
    {
     "data": {
      "text/plain": [
       "994"
      ]
     },
     "execution_count": 38,
     "metadata": {},
     "output_type": "execute_result"
    }
   ],
   "source": [
    "arr = numbers.copy()\n",
    "minimumSwaps(arr)"
   ]
  }
 ],
 "metadata": {
  "kernelspec": {
   "display_name": "Python 3",
   "language": "python",
   "name": "python3"
  },
  "language_info": {
   "codemirror_mode": {
    "name": "ipython",
    "version": 3
   },
   "file_extension": ".py",
   "mimetype": "text/x-python",
   "name": "python",
   "nbconvert_exporter": "python",
   "pygments_lexer": "ipython3",
   "version": "3.8.5"
  }
 },
 "nbformat": 4,
 "nbformat_minor": 4
}
