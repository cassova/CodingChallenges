{
 "cells": [
  {
   "cell_type": "markdown",
   "metadata": {},
   "source": [
    "# Chapter 2 - Linked Lists"
   ]
  },
  {
   "cell_type": "code",
   "execution_count": 1,
   "metadata": {},
   "outputs": [
    {
     "name": "stdout",
     "output_type": "stream",
     "text": [
      "Linked List: a -> b -> b -> c -> d -> c -> a -> b\n"
     ]
    }
   ],
   "source": [
    "# Helper classes\n",
    "class Node():\n",
    "    def __init__(self,value,next_node=None):\n",
    "        self.value = value\n",
    "        self.next_node = next_node\n",
    "class LinkedList():\n",
    "    def __init__(self,values=None):\n",
    "        self.head=None\n",
    "        if type(values) in (list,set,frozenset):\n",
    "            self.extend(values)\n",
    "        elif values != None:\n",
    "            self.append(values)\n",
    "    def append(self,value):\n",
    "        if self.head==None:\n",
    "            self.head=Node(value)\n",
    "        else:\n",
    "            curr_node = self.head\n",
    "            while curr_node.next_node != None:\n",
    "                curr_node = curr_node.next_node\n",
    "            curr_node.next_node = Node(value)\n",
    "    def extend(self, value_list):\n",
    "        for value in value_list:\n",
    "            self.append(value)\n",
    "    def get(self,k):\n",
    "        i=0\n",
    "        curr_node = self.head\n",
    "        while curr_node.next_node != None and i!=k:\n",
    "            curr_node = curr_node.next_node\n",
    "            i+=1\n",
    "        if i==k:\n",
    "            return curr_node\n",
    "        else:\n",
    "            raise Exception(f\"Index {k} out of range\")\n",
    "    def __repr__(self,n=-1):\n",
    "        curr_node = self.head\n",
    "        if curr_node == None:\n",
    "            return \"\"\n",
    "        ret = [str(curr_node.value)]\n",
    "        i=0\n",
    "        while curr_node.next_node != None:\n",
    "            if n>0 and i>=n:\n",
    "                break\n",
    "            curr_node = curr_node.next_node\n",
    "            ret.append(str(curr_node.value))\n",
    "            i+=1\n",
    "        return \" -> \".join(ret)\n",
    "    \n",
    "lst = LinkedList(['a','b','b','c','d','c','a','b'])\n",
    "print('Linked List:', lst)"
   ]
  },
  {
   "cell_type": "markdown",
   "metadata": {},
   "source": [
    "## 2.1 Remove Dups\n",
    "Write code to remove duplicates from an unsorted linked list.\n",
    "\n",
    "FOLLOW UP\n",
    "\n",
    "How would you solve this problem if a temporary buffer is not allowed?"
   ]
  },
  {
   "cell_type": "code",
   "execution_count": 2,
   "metadata": {},
   "outputs": [
    {
     "name": "stdout",
     "output_type": "stream",
     "text": [
      "Before: a -> b -> b -> c -> d -> c -> a -> b\n",
      "After: a -> b -> c -> d\n"
     ]
    }
   ],
   "source": [
    "def remove_duplicates_buffered(llst):\n",
    "    curr_node = llst.head\n",
    "    vals = {curr_node.value}\n",
    "    while curr_node.next_node != None:\n",
    "        if curr_node.next_node.value in vals:\n",
    "            curr_node.next_node = curr_node.next_node.next_node\n",
    "        else:\n",
    "            vals.add(curr_node.next_node.value)\n",
    "            curr_node = curr_node.next_node\n",
    "    return llst\n",
    "\n",
    "lst = LinkedList(['a','b','b','c','d','c','a','b'])\n",
    "print('Before:',lst)\n",
    "lst = remove_duplicates_buffered(lst)\n",
    "print('After:',lst)\n",
    "\n",
    "# Complexity\n",
    "#  Time: O(n)\n",
    "#  Space: O(n)"
   ]
  },
  {
   "cell_type": "code",
   "execution_count": 3,
   "metadata": {},
   "outputs": [
    {
     "name": "stdout",
     "output_type": "stream",
     "text": [
      "Before: a -> b -> b -> c -> d -> c -> a -> b\n",
      "After: a -> b -> c -> d\n"
     ]
    }
   ],
   "source": [
    "def remove_duplicates_nobuff(llst):\n",
    "    curr_node = llst.head\n",
    "    while curr_node.next_node != None:\n",
    "        runner = curr_node\n",
    "        while runner.next_node != None:\n",
    "            if runner.next_node.value == curr_node.value:\n",
    "                runner.next_node = runner.next_node.next_node\n",
    "            else:\n",
    "                runner = runner.next_node\n",
    "        curr_node = curr_node.next_node\n",
    "    return llst\n",
    "\n",
    "\n",
    "lst = LinkedList(['a','b','b','c','d','c','a','b'])\n",
    "print('Before:',lst)\n",
    "lst = remove_duplicates_nobuff(lst)\n",
    "print('After:',lst)\n",
    "\n",
    "# Complexity\n",
    "#  Time: O(n^2)\n",
    "#  Space: O(1)"
   ]
  },
  {
   "cell_type": "markdown",
   "metadata": {},
   "source": [
    "## 2.2 Return Kth to Last\n",
    "Implement an algorithm to find the kth to last element of a singly linked list."
   ]
  },
  {
   "cell_type": "code",
   "execution_count": 4,
   "metadata": {},
   "outputs": [
    {
     "name": "stdout",
     "output_type": "stream",
     "text": [
      "Before: a -> b -> b -> c -> d -> c -> a -> b\n",
      "Index 3: d\n",
      "Index 0: b\n",
      "Index 7: a\n",
      "Index 8: ERROR: Element 8 out of range\n",
      "Index -1: ERROR: Element -1 out of range\n"
     ]
    }
   ],
   "source": [
    "def get_kth_node_from_last(llst,k):\n",
    "    i=0\n",
    "    curr_node = llst.head\n",
    "    spacer = llst.head\n",
    "    \n",
    "    # Move spacer k elements ahead of curr_node\n",
    "    while spacer.next_node != None and i!=k:\n",
    "        spacer=spacer.next_node\n",
    "        i+=1\n",
    "    if i!=k:\n",
    "        return f\"ERROR: Element {k} out of range\"\n",
    "    \n",
    "    # Move both curr_node and spacer till spacer reaches end\n",
    "    while spacer.next_node != None:\n",
    "        spacer=spacer.next_node\n",
    "        curr_node=curr_node.next_node\n",
    "    return curr_node.value\n",
    "        \n",
    "lst = LinkedList(['a','b','b','c','d','c','a','b'])\n",
    "print('Before:',lst)\n",
    "print('Index 3:', get_kth_node_from_last(lst,3))\n",
    "print('Index 0:', get_kth_node_from_last(lst,0))\n",
    "print('Index 7:', get_kth_node_from_last(lst,7))\n",
    "print('Index 8:', get_kth_node_from_last(lst,8))\n",
    "print('Index -1:', get_kth_node_from_last(lst,-1))\n",
    "\n",
    "# Complexity\n",
    "#  Time: O(n)\n",
    "#  Space: O(1)"
   ]
  },
  {
   "cell_type": "markdown",
   "metadata": {},
   "source": [
    "## 2.3 Delete Middle Node\n",
    "Implement an algorithm to delete a node in the middle (i.e. any node but the first and last node, not necessarily the exact middle) of a singly linked list, given only access to that node.\n",
    "\n",
    "EXAMPLE\n",
    "\n",
    "Input: the node `c` from the linked list `a -> b -> c -> d -> e -> f`\n",
    "\n",
    "Result: nothing is returned, but the new linked list looks like `a -> b -> d -> e -> f`"
   ]
  },
  {
   "cell_type": "code",
   "execution_count": 5,
   "metadata": {},
   "outputs": [
    {
     "name": "stdout",
     "output_type": "stream",
     "text": [
      "Before: a -> b -> b -> c -> d -> c -> a -> b\n",
      "  Removing node with value c\n",
      "After: a -> b -> b -> d -> c -> a -> b\n"
     ]
    }
   ],
   "source": [
    "def remove_middle_node(node):\n",
    "    node.value = node.next_node.value\n",
    "    node.next_node = node.next_node.next_node\n",
    "\n",
    "lst = LinkedList(['a','b','b','c','d','c','a','b'])\n",
    "print('Before:',lst)\n",
    "node = lst.get(3)\n",
    "print(f'  Removing node with value {node.value}')\n",
    "remove_middle_node(node)\n",
    "print('After:',lst)\n",
    "\n",
    "# Complexity\n",
    "#  Time: O(1)\n",
    "#  Space: O(1)"
   ]
  },
  {
   "cell_type": "markdown",
   "metadata": {},
   "source": [
    "## 2.4 Partition\n",
    "Write code to partition a linked list around a value x, such that all nodes less than x come before all nodes greater than or equal to x.  (IMPORTANT: The partition element x can appear anywhere in the \"right partition\"; it does not need to appear between the left and right positions.  The additional spacing in the example below indicates the partition.  Yes, the output below is one of many valid outputs!)\n",
    "\n",
    "EXAMPLE\n",
    "\n",
    "Input:  `3 -> 5 -> 8 -> 5 -> 10 -> 2 -> 1` [partition = 5]\n",
    "\n",
    "Output: `3 -> 1 -> 2        ->         10 -> 5 -> 5 -> 8`"
   ]
  },
  {
   "cell_type": "code",
   "execution_count": 6,
   "metadata": {},
   "outputs": [
    {
     "name": "stdout",
     "output_type": "stream",
     "text": [
      "Before: 3 -> 5 -> 8 -> 5 -> 10 -> 2 -> 1\n",
      "After: 1 -> 2 -> 3 -> 5 -> 8 -> 5 -> 10\n"
     ]
    }
   ],
   "source": [
    "def partition(llst, x):\n",
    "    head = llst.head\n",
    "    tail = llst.head\n",
    "    curr_node = llst.head\n",
    "    while curr_node != None:\n",
    "        next_node = curr_node.next_node\n",
    "        if curr_node.value < x:\n",
    "            curr_node.next_node = head\n",
    "            head = curr_node\n",
    "        else:\n",
    "            tail.next_node = curr_node\n",
    "            tail = tail.next_node\n",
    "        curr_node = next_node\n",
    "    \n",
    "    tail.next_node = None\n",
    "    llst.head = head\n",
    "    return llst\n",
    "\n",
    "lst = LinkedList([3,5,8,5,10,2,1])\n",
    "print('Before:',lst)\n",
    "print('After:',partition(lst, 5))\n",
    "\n",
    "# Complexity\n",
    "#  Time: O(n)\n",
    "#  Space: O(1)"
   ]
  },
  {
   "cell_type": "markdown",
   "metadata": {},
   "source": [
    "## 2.5 Sum Lists\n",
    "You have two numbers represented by a linked list, where each node contains a single digit. The digits are stored in reverse order, such that the 1 's digit is at the head of the list. Write a function that adds the two numbers and returns the sum as a linked list.\n",
    "\n",
    "EXAMPLE\n",
    "\n",
    "Input: `(7 -> 1 -> 6) + (5 -> 9 -> 2)`. That is,617 + 295.\n",
    "\n",
    "Output: `2 -> 1 -> 9`. That is, 912.\n",
    "\n",
    "FOLLOW UP\n",
    "\n",
    "Suppose the digits are stored in forward order. Repeat the above problem.\n",
    "\n",
    "EXAMPLE\n",
    "\n",
    "lnput: `(6 -> 1 -> 7) + (2 -> 9 -> 5)`. That is,617 + 295.\n",
    "\n",
    "Output: `9 -> 1 -> 2`. That is, 912."
   ]
  },
  {
   "cell_type": "code",
   "execution_count": 7,
   "metadata": {},
   "outputs": [
    {
     "name": "stdout",
     "output_type": "stream",
     "text": [
      "(7 -> 1 -> 6) + (5 -> 9 -> 2) = (2 -> 1 -> 9)\n"
     ]
    }
   ],
   "source": [
    "def sum_lists(llst_a, llst_b):\n",
    "    curr_a = llst_a.head\n",
    "    curr_b = llst_b.head\n",
    "    head_node=None\n",
    "    carry=0\n",
    "    while curr_a != None or curr_b != None:\n",
    "        val_a = curr_a.value if curr_a != None else 0\n",
    "        val_b = curr_b.value if curr_b != None else 0\n",
    "        total = carry + val_a + val_b\n",
    "        carry = total//10\n",
    "        node = Node(total%10)\n",
    "        if head_node == None:\n",
    "            head_node=node\n",
    "            curr_node=node\n",
    "        else:\n",
    "            curr_node.next_node = node\n",
    "            curr_node = node\n",
    "        curr_a = curr_a.next_node if curr_a != None else None\n",
    "        curr_b = curr_b.next_node if curr_b != None else None\n",
    "        \n",
    "    if carry>0:\n",
    "        node = Node(carry)\n",
    "        curr_node.next_node = node\n",
    "    llst_o = LinkedList()\n",
    "    llst_o.head = head_node\n",
    "    return llst_o\n",
    "\n",
    "\n",
    "a = LinkedList([7,1,6])\n",
    "b = LinkedList([5,9,2])\n",
    "print(f'({a}) + ({b}) = ({sum_lists(a,b)})')\n",
    "\n",
    "# Complexity\n",
    "#  Time: O(n*m)\n",
    "#  Space: O(n)"
   ]
  },
  {
   "cell_type": "code",
   "execution_count": 8,
   "metadata": {},
   "outputs": [
    {
     "name": "stdout",
     "output_type": "stream",
     "text": [
      "(7 -> 1 -> 6) + (5 -> 9 -> 2) = (2 -> 1 -> 9)\n"
     ]
    }
   ],
   "source": [
    "# Here's a recursive solution of the above.  I used a wrapper function to reduce the code\n",
    "def sum_lists_recurse(node_a, node_b, carry=0):\n",
    "    if node_a == None and node_b == None and carry == 0:\n",
    "        return None\n",
    "    total = carry\n",
    "    total += node_a.value if node_a != None else 0\n",
    "    total += node_b.value if node_b != None else 0\n",
    "    node = Node(total%10)\n",
    "    carry = total//10\n",
    "    if node_a != None or node_b != None or carry>0:\n",
    "        next_node = sum_lists_recurse(node_a.next_node, node_b.next_node, carry)\n",
    "        node.next_node = next_node\n",
    "    return node\n",
    "\n",
    "def sum_list_recurse_wrapper(llst_a, llst_b):\n",
    "    head = sum_lists_recurse(llst_a.head, llst_b.head)\n",
    "    lst = LinkedList()\n",
    "    lst.head = head\n",
    "    return lst\n",
    "\n",
    "a = LinkedList([7,1,6])\n",
    "b = LinkedList([5,9,2])\n",
    "print(f'({a}) + ({b}) = ({sum_list_recurse_wrapper(a,b)})')\n",
    "\n",
    "# Complexity\n",
    "#  Time: O(n*m)\n",
    "#  Space: O(n)"
   ]
  },
  {
   "cell_type": "code",
   "execution_count": 9,
   "metadata": {},
   "outputs": [
    {
     "name": "stdout",
     "output_type": "stream",
     "text": [
      "(7 -> 1 -> 6) + (5 -> 9 -> 2) = (2 -> 1 -> 9)\n"
     ]
    }
   ],
   "source": [
    "# This is another recursive version but this time I include all the code in one function\n",
    "def sum_lists_recurse(llst_a, llst_b, carry=0):\n",
    "    node_a = llst_a.head\n",
    "    node_b = llst_b.head\n",
    "    if node_a == None and node_b == None and carry == 0:\n",
    "        return LinkedList()\n",
    "    total = carry\n",
    "    total += node_a.value if node_a != None else 0\n",
    "    total += node_b.value if node_b != None else 0\n",
    "    node = Node(total%10)\n",
    "    carry = total//10\n",
    "    if node_a != None or node_b != None or carry>0:\n",
    "        llst_a.head = node_a.next_node\n",
    "        llst_b.head = node_b.next_node\n",
    "        next_lst = sum_lists_recurse(llst_a, llst_b, carry)\n",
    "        node.next_node = next_lst.head\n",
    "    lst = LinkedList()\n",
    "    lst.head = node\n",
    "    return lst\n",
    "\n",
    "a = LinkedList([7,1,6])\n",
    "b = LinkedList([5,9,2])\n",
    "print(f'({a}) + ({b}) = ({sum_lists_recurse(a,b)})')\n",
    "\n",
    "# Complexity\n",
    "#  Time: O(n*m)\n",
    "#  Space: O(n)"
   ]
  },
  {
   "cell_type": "code",
   "execution_count": 10,
   "metadata": {},
   "outputs": [
    {
     "name": "stdout",
     "output_type": "stream",
     "text": [
      "(6 -> 1 -> 7) + (2 -> 9 -> 5) = (9 -> 1 -> 2)\n"
     ]
    }
   ],
   "source": [
    "# Follow-up: sum in forward order (natural order)\n",
    "def sum_lists_forward(llst_a, llst_b):\n",
    "    node_a = llst_a.head\n",
    "    node_b = llst_b.head\n",
    "    # build arrays in reverse order\n",
    "    arr_a,arr_b,arr_s = [],[],[]\n",
    "    while True:\n",
    "        if node_a == None and node_b == None:\n",
    "            break\n",
    "        if node_a != None:\n",
    "            arr_a.insert(0,node_a.value)\n",
    "            node_a = node_a.next_node\n",
    "        if node_b != None:\n",
    "            arr_b.insert(0,node_b.value)\n",
    "            node_b = node_b.next_node\n",
    "            \n",
    "    # perform sum into new array\n",
    "    i=0\n",
    "    carry=0\n",
    "    while True:\n",
    "        if i>=len(arr_a) and i>=len(arr_b) and carry==0:\n",
    "            break\n",
    "        s = carry\n",
    "        s += arr_a[i] if i<len(arr_a) else 0\n",
    "        s += arr_b[i] if i<len(arr_b) else 0\n",
    "        arr_s.append(s%10)\n",
    "        carry=s//10\n",
    "        i+=1\n",
    "    \n",
    "    # build linkedlist in reverse\n",
    "    head,prev = None,None\n",
    "    i=1\n",
    "    while True:\n",
    "        if i>len(arr_s):\n",
    "            break\n",
    "        if head==None:\n",
    "            head=Node(arr_s[-i])\n",
    "            prev=head\n",
    "        else:\n",
    "            next_node = Node(arr_s[-i])\n",
    "            prev.next_node = next_node\n",
    "            prev = next_node\n",
    "        i+=1\n",
    "    output = LinkedList()\n",
    "    output.head = head\n",
    "    \n",
    "    return output\n",
    "    \n",
    "a = LinkedList([6,1,7])\n",
    "b = LinkedList([2,9,5])\n",
    "print(f'({a}) + ({b}) = ({sum_lists_forward(a,b)})')\n",
    "\n",
    "# Complexity\n",
    "#  Time: O(n*m) - simplified from O(3*n*m)\n",
    "#  Space: O(n) - simplified from O(4*n)"
   ]
  },
  {
   "cell_type": "code",
   "execution_count": 11,
   "metadata": {},
   "outputs": [
    {
     "name": "stdout",
     "output_type": "stream",
     "text": [
      "(7 -> 1 -> 2) + (2 -> 9 -> 5) = (1 -> 0 -> 0 -> 7)\n",
      "(7 -> 1 -> 2) + (9 -> 9) = (8 -> 1 -> 1)\n",
      "(9 -> 9 -> 9) + (1) = (1 -> 0 -> 0 -> 0)\n"
     ]
    }
   ],
   "source": [
    "# Some tests...\n",
    "a = LinkedList([7,1,2])\n",
    "b = LinkedList([2,9,5])\n",
    "print(f'({a}) + ({b}) = ({sum_lists_forward(a,b)})')\n",
    "\n",
    "a = LinkedList([7,1,2])\n",
    "b = LinkedList([9,9])\n",
    "print(f'({a}) + ({b}) = ({sum_lists_forward(a,b)})')\n",
    "\n",
    "a = LinkedList([9,9,9])\n",
    "b = LinkedList([1])\n",
    "print(f'({a}) + ({b}) = ({sum_lists_forward(a,b)})')"
   ]
  },
  {
   "cell_type": "markdown",
   "metadata": {},
   "source": [
    "## 2.6 Palindrome\n",
    "Implement a function to check if a linked list is a palindrome. "
   ]
  },
  {
   "cell_type": "code",
   "execution_count": 12,
   "metadata": {},
   "outputs": [
    {
     "name": "stdout",
     "output_type": "stream",
     "text": [
      "True H -> a -> n -> n -> a -> H\n",
      "False H -> a -> n -> n -> a -> h\n",
      "True 9 -> 8 -> 7 -> 8 -> 9\n"
     ]
    }
   ],
   "source": [
    "def reverse_linked_list(llst):\n",
    "    head=None\n",
    "    next_node = llst.head\n",
    "    while True:\n",
    "        if next_node==None:\n",
    "            break\n",
    "        head = Node(next_node.value, head)\n",
    "        next_node = next_node.next_node\n",
    "    output = LinkedList()\n",
    "    output.head = head\n",
    "    return output\n",
    "\n",
    "def is_linked_list_palindrome(llst):\n",
    "    r_llst = reverse_linked_list(llst)\n",
    "    node_a = llst.head\n",
    "    node_b = r_llst.head\n",
    "    while True:\n",
    "        if node_a == None:\n",
    "            break\n",
    "        if node_a.value != node_b.value:\n",
    "            return False\n",
    "        node_a = node_a.next_node\n",
    "        node_b = node_b.next_node\n",
    "    \n",
    "    return True\n",
    "\n",
    "a = LinkedList(['H','a','n','n','a','H'])\n",
    "print(is_linked_list_palindrome(a), a)\n",
    "\n",
    "a = LinkedList(['H','a','n','n','a','h'])\n",
    "print(is_linked_list_palindrome(a), a)\n",
    "\n",
    "a = LinkedList([9,8,7,8,9])\n",
    "print(is_linked_list_palindrome(a), a)\n",
    "\n",
    "# Complexity\n",
    "#  Time: O(n) - simplified from O(2*n)\n",
    "#  Space: O(n) - simplified from O(2*n)"
   ]
  },
  {
   "cell_type": "markdown",
   "metadata": {},
   "source": [
    "## 2.7 Intersection\n",
    "Given two (singly) linked lists, determine if the two lists intersect. Return the intersecting node. Note that the intersection is defined based on reference, not value. That is, if the kth node of the first linked list is the exact same node (by reference) as the jth node of the second linked list, then they are intersecting. "
   ]
  },
  {
   "cell_type": "code",
   "execution_count": 13,
   "metadata": {},
   "outputs": [
    {
     "name": "stdout",
     "output_type": "stream",
     "text": [
      "(6 -> 1 -> 7 -> 8 -> 9) & (7 -> 8 -> 9) = True\n",
      "(6 -> 1 -> 7 -> 8 -> 9) & (7 -> 8 -> 9) = False\n"
     ]
    }
   ],
   "source": [
    "def check_intersection(llst_a, llst_b):\n",
    "    # Loop through each element of llst_a to see if it exists in llst_b\n",
    "    # if we find any match, we know it's intersection and we can stop\n",
    "    \n",
    "    node_a = llst_a.head\n",
    "    while True:\n",
    "        if node_a==None:\n",
    "            break\n",
    "        node_b=llst_b.head\n",
    "        while True:\n",
    "            if node_b==None:\n",
    "                break\n",
    "            if node_b==node_a:\n",
    "                return True\n",
    "            node_b = node_b.next_node\n",
    "        node_a = node_a.next_node\n",
    "    return False\n",
    "            \n",
    "\n",
    "# Create an intersection\n",
    "a = LinkedList([6,1,7,8,9])\n",
    "b_node = a.head.next_node.next_node\n",
    "b = LinkedList()\n",
    "b.head = b_node\n",
    "c = LinkedList(['7','8','9'])\n",
    "print(f'({a}) & ({b}) = {check_intersection(a, b)}')\n",
    "print(f'({a}) & ({c}) = {check_intersection(a, c)}')\n",
    "\n",
    "# Complexity\n",
    "#  Time: O(n*m)\n",
    "#  Space: O(1)"
   ]
  },
  {
   "cell_type": "markdown",
   "metadata": {},
   "source": [
    "## 2.8 Loop Detection\n",
    "Given a circular linked list, implement an algorithm that returns the node at the beginning of the loop.\n",
    "\n",
    "DEFINITION\n",
    "\n",
    "Circular linked list: A (corrupt) linked list in which a node's next pointer points to an earlier node, so as to make a loop in the linked list.\n",
    "\n",
    "EXAMPLE\n",
    "\n",
    "Input: `A -> B -> C -> D -> E -> C` [the same C as earlier]\n",
    "\n",
    "Output: `C` "
   ]
  },
  {
   "cell_type": "code",
   "execution_count": 14,
   "metadata": {},
   "outputs": [
    {
     "name": "stdout",
     "output_type": "stream",
     "text": [
      "True 6 -> 1 -> 7 -> 8 -> 9 -> 7 -> 8 -> 9 -> 7 -> 8 -> 9\n",
      "False 6 -> 1 -> 7 -> 8 -> 9\n"
     ]
    }
   ],
   "source": [
    "def detect_corrupt_linked_list(llst):\n",
    "    visited = []\n",
    "    node = llst.head\n",
    "    while True:\n",
    "        if node == None:\n",
    "            break\n",
    "        if node in visited:\n",
    "            return True\n",
    "        visited.append(node)\n",
    "        node = node.next_node\n",
    "    return False\n",
    "\n",
    "a = LinkedList([6,1,7,8,9])\n",
    "a_node = a.head.next_node.next_node.next_node.next_node\n",
    "a_node.next_node = a.head.next_node.next_node\n",
    "print(detect_corrupt_linked_list(a), a.__repr__(10))\n",
    "\n",
    "a = LinkedList([6,1,7,8,9])\n",
    "print(detect_corrupt_linked_list(a), a.__repr__(10))\n",
    "\n",
    "# Complexity\n",
    "#  Time: O(n)\n",
    "#  Space: O(n)"
   ]
  }
 ],
 "metadata": {
  "kernelspec": {
   "display_name": "Python 3",
   "language": "python",
   "name": "python3"
  },
  "language_info": {
   "codemirror_mode": {
    "name": "ipython",
    "version": 3
   },
   "file_extension": ".py",
   "mimetype": "text/x-python",
   "name": "python",
   "nbconvert_exporter": "python",
   "pygments_lexer": "ipython3",
   "version": "3.8.5"
  }
 },
 "nbformat": 4,
 "nbformat_minor": 4
}
