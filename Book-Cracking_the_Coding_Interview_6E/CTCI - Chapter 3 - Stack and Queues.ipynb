{
 "cells": [
  {
   "cell_type": "markdown",
   "metadata": {},
   "source": [
    "# Chapter 3 - Stack and Queues"
   ]
  },
  {
   "cell_type": "markdown",
   "metadata": {},
   "source": [
    "## 3.1 Three in One\n",
    "Describe how you could use a single array to implement three stacks."
   ]
  },
  {
   "cell_type": "code",
   "execution_count": 10,
   "metadata": {},
   "outputs": [
    {
     "name": "stdout",
     "output_type": "stream",
     "text": [
      "A: [1, 2, 3, 4]\n",
      "B: ['a', 'b', 'c']\n",
      "C: ['hello', 'world']\n",
      "\n",
      "Pulled c 4 b \n",
      "\n",
      "A: [1, 2, 3]\n",
      "B: ['a']\n",
      "C: ['hello', 'world']\n"
     ]
    }
   ],
   "source": [
    "class ThreeStackArray():\n",
    "    def __init__(self, name_a, name_b, name_c):\n",
    "        self.arr = []\n",
    "        self.names = [name_a, name_b, name_c]\n",
    "        self.a=-1\n",
    "        self.b=-1\n",
    "        self.c=-1\n",
    "    def push(self,name,value):\n",
    "        if name == self.names[0]:\n",
    "            self.arr.insert(self.a+1,value)\n",
    "            self.a+=1\n",
    "            self.b+=1\n",
    "            self.c+=1\n",
    "        elif name == self.names[1]:\n",
    "            self.arr.insert(self.b+1,value)\n",
    "            self.b+=1\n",
    "            self.c+=1\n",
    "        elif name == self.names[2]:\n",
    "            self.arr.insert(self.c+1,value)\n",
    "            self.c+=1\n",
    "        else:\n",
    "            raise Exception(f'Push failed. Unknown stack name {name}')\n",
    "    def pull(self,name):\n",
    "        if name == self.names[0]:\n",
    "            if self.a>=0:\n",
    "                v = self.arr.pop(self.a)\n",
    "                self.a-=1\n",
    "                self.b-=1\n",
    "                self.c-=1\n",
    "                return v\n",
    "            else:\n",
    "                raise Exception(f'Pull Failed. Stack {name} has no more elements to pop')\n",
    "        elif name == self.names[1]:\n",
    "            if self.b-self.a>0:\n",
    "                v = self.arr.pop(self.b)\n",
    "                self.b-=1\n",
    "                self.c-=1\n",
    "                return v\n",
    "            else:\n",
    "                raise Exception(f'Pull Failed. Stack {name} has no more elements to pop')\n",
    "        elif name == self.names[2]:\n",
    "            if self.c-self.b>0:\n",
    "                v = self.arr.pop(self.c)\n",
    "                self.c-=1\n",
    "                return v\n",
    "            else:\n",
    "                raise Exception(f'Pull Failed. Stack {name} has no more elements to pop')\n",
    "        else:\n",
    "            raise Exception(f'Pull failed. Unknown stack name {name}')\n",
    "            \n",
    "    def __repr__(self):\n",
    "        a = f'{self.names[0]}: {self.arr[0:self.a+1]}'\n",
    "        b = f'{self.names[1]}: {self.arr[self.a+1:self.b+1]}'\n",
    "        c = f'{self.names[2]}: {self.arr[self.b+1:self.c+1]}'\n",
    "        return '\\n'.join([a,b,c])\n",
    "            \n",
    "stack = ThreeStackArray('A','B','C')\n",
    "stack.push('A',1)\n",
    "stack.push('A',2)\n",
    "stack.push('A',3)\n",
    "stack.push('A',4)\n",
    "stack.push('B','a')\n",
    "stack.push('B','b')\n",
    "stack.push('B','c')\n",
    "stack.push('C','hello')\n",
    "stack.push('C','world')\n",
    "\n",
    "print(stack)\n",
    "\n",
    "pull_1 = stack.pull('B')\n",
    "pull_2 = stack.pull('A')\n",
    "pull_3 = stack.pull('B')\n",
    "print('\\nPulled', pull_1, pull_2, pull_3,'\\n')\n",
    "\n",
    "print(stack)\n"
   ]
  },
  {
   "cell_type": "markdown",
   "metadata": {},
   "source": [
    "## 3.2 Stack Min\n",
    "How would you design a stack which, in addition to push and pop, has a function min which returns the minimum element? Push, pop and min should all operate in O(1) time."
   ]
  },
  {
   "cell_type": "code",
   "execution_count": 25,
   "metadata": {},
   "outputs": [
    {
     "name": "stdout",
     "output_type": "stream",
     "text": [
      "2 <- 8 <- 1 :: Min is 1\n",
      "\n",
      "Pulled 1 \n",
      "\n",
      "2 <- 8 :: Min is 2\n"
     ]
    }
   ],
   "source": [
    "# This is best done with a LinkedList version instead of using a\n",
    "# pythonic list so we can store more values on each node\n",
    "class Node():\n",
    "    def __init__(self, value, next_node=None, curr_min=None):\n",
    "        self.value=value\n",
    "        self.curr_min=curr_min\n",
    "        self.next_node=next_node\n",
    "        \n",
    "class Stack():\n",
    "    def __init__(self):\n",
    "        self.head = None\n",
    "    def push(self,v):\n",
    "        if self.head == None:\n",
    "            self.head = Node(v, self.head, v)\n",
    "        else:\n",
    "            self.head = Node(v, self.head, min(v, self.head.curr_min))\n",
    "    def pull(self):\n",
    "        if self.head == None:\n",
    "            raise Exception('Pull failed. Stack is empty')\n",
    "        v = self.head.value\n",
    "        self.head = self.head.next_node\n",
    "        return v\n",
    "    def min(self):\n",
    "        return self.head.curr_min\n",
    "    def __repr__(self,n=-1):\n",
    "        curr_node = self.head\n",
    "        if curr_node == None:\n",
    "            return \"\"\n",
    "        ret = [str(curr_node.value)]\n",
    "        i=0\n",
    "        while curr_node.next_node != None:\n",
    "            if n>0 and i>=n:\n",
    "                break\n",
    "            curr_node = curr_node.next_node\n",
    "            ret.append(str(curr_node.value))\n",
    "            i+=1\n",
    "        ret.reverse()\n",
    "        return \" <- \".join(ret)\n",
    "\n",
    "stack = Stack()\n",
    "stack.push(2)\n",
    "stack.push(8)\n",
    "stack.push(1)\n",
    "print(stack, ':: Min is', stack.min())\n",
    "pull_1 = stack.pull()\n",
    "print('\\nPulled',pull_1,'\\n')\n",
    "print(stack, ':: Min is', stack.min())"
   ]
  },
  {
   "cell_type": "markdown",
   "metadata": {},
   "source": [
    "## 3.3 Stack of Plates\n",
    "\n",
    "Imagine a (literal) stack of plates. If the stack gets too high, it might topple. Therefore, in real life, we would likely start a new stack when the previous stack exceeds some threshold. Implement a data structure `SetOfStacks` that mimics this. `SetOfStacks` should be composed of several stacks and should create a new stack once the previous one exceeds capacity.\n",
    "`SetOfStacks.push()` and `SetOfStacks.pop()` should behave identically to a single stack (that is, `pop()` should return the same values as it would if there were just a single stack).\n",
    "\n",
    "FOLLOW UP\n",
    "\n",
    "Implement a function `popAt(int index)` which performs a pop operation on a specific sub-stack.\n",
    "\n",
    "Hints:#64, #87\n",
    "pg233"
   ]
  },
  {
   "cell_type": "markdown",
   "metadata": {},
   "source": [
    "## 3.4 Queue via Stacks\n",
    "Implement a `MyQueue` class which implements a queue using two stacks.\n",
    "\n",
    "Hints: #98, #7 74\n",
    "pg 236"
   ]
  },
  {
   "cell_type": "markdown",
   "metadata": {},
   "source": [
    "## 3.5 Sort Stack\n",
    "Write a program to sort a stack such that the smallest items are on the top. You can use an additional temporary stack, but you may not copy the elements into any other data structure (such as an array). The stack supports the following operations: `push`, `pop`, `peek`, and `isEmpty`.\n",
    "\n",
    "Hints:# 15, #32, #43\n",
    "P9 237"
   ]
  },
  {
   "cell_type": "markdown",
   "metadata": {},
   "source": [
    "## 3.6 Animal Shelter\n",
    "An animal shelter, which holds only dogs and cats, operates on a strictly \"first in, first out\" basis. People must adopt either the \"oldest\" (based on arrival time) of all animals at the shelter, or they can select whether they would prefer a dog or a cat (and will receive the oldest animal of that type). They cannot select which specific animal they would like. Create the data structures to maintain this system and implement operations such as `enqueue`, `dequeueAny`, `dequeueDog`, and `dequeueCat`. You may use the built-in `LinkedList` data structure.\n",
    "Hints: #22, #56, #63 "
   ]
  }
 ],
 "metadata": {
  "kernelspec": {
   "display_name": "Python 3",
   "language": "python",
   "name": "python3"
  },
  "language_info": {
   "codemirror_mode": {
    "name": "ipython",
    "version": 3
   },
   "file_extension": ".py",
   "mimetype": "text/x-python",
   "name": "python",
   "nbconvert_exporter": "python",
   "pygments_lexer": "ipython3",
   "version": "3.8.5"
  }
 },
 "nbformat": 4,
 "nbformat_minor": 4
}
