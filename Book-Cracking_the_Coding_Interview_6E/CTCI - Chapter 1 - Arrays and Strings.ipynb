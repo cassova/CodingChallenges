{
 "cells": [
  {
   "cell_type": "markdown",
   "metadata": {},
   "source": [
    "# Chapter 1 - Arrays and Strings"
   ]
  },
  {
   "cell_type": "markdown",
   "metadata": {},
   "source": [
    "## 1.1 Is Unique\n",
    "Implement an algorithm to determine if a string has all unique characters.  What if you cannot use additional data structurs?"
   ]
  },
  {
   "cell_type": "code",
   "execution_count": 1,
   "metadata": {},
   "outputs": [
    {
     "name": "stdout",
     "output_type": "stream",
     "text": [
      "False\n",
      "True\n"
     ]
    }
   ],
   "source": [
    "def unique_char_string(string):\n",
    "    return len(set(string)) == len(string)\n",
    "\n",
    "print(unique_char_string('abcdefghihklk'))\n",
    "print(unique_char_string('abcdefghijk'))\n",
    "\n",
    "# Complexity\n",
    "#  Time: O(n) from list to set\n",
    "#  Space: O(n) for set\n",
    "# uses set data structure so fails last condition"
   ]
  },
  {
   "cell_type": "code",
   "execution_count": 2,
   "metadata": {},
   "outputs": [
    {
     "name": "stdout",
     "output_type": "stream",
     "text": [
      "False\n",
      "True\n"
     ]
    }
   ],
   "source": [
    "def unique_char_string(string):\n",
    "    for i,c in enumerate(string):\n",
    "        for c2 in string[i+1:]:\n",
    "            if c==c2:\n",
    "                return False\n",
    "    return True\n",
    "\n",
    "print(unique_char_string('abcdefghihklk'))\n",
    "print(unique_char_string('abcdefghijk'))\n",
    "\n",
    "# Complexity\n",
    "#  Time: O(n^2)\n",
    "#  Space: O(1)"
   ]
  },
  {
   "cell_type": "markdown",
   "metadata": {},
   "source": [
    "## 1.2 Check Permutation\n",
    "Given two strings, write a method to decide if one is a permutation of the other.\n",
    "\n",
    "*Assumptions:* case and space sensitive"
   ]
  },
  {
   "cell_type": "code",
   "execution_count": 3,
   "metadata": {},
   "outputs": [
    {
     "data": {
      "text/plain": [
       "False"
      ]
     },
     "execution_count": 3,
     "metadata": {},
     "output_type": "execute_result"
    }
   ],
   "source": [
    "def is_permutation(string_a, string_b):\n",
    "    \n",
    "    if len(string_a)!=len(string_b):\n",
    "        return False\n",
    "    \n",
    "    dict_a={}\n",
    "    for a in string_a:\n",
    "        dict_a[a] = dict_a.get(a,0) + 1\n",
    "        \n",
    "    for b in string_b:\n",
    "        try:\n",
    "            dict_a[b] -= 1\n",
    "            if dict_a[b] == 0:\n",
    "                del dict_a[b]\n",
    "        except:\n",
    "            # item not found - not permutation\n",
    "            return False\n",
    "    return True\n",
    "\n",
    "is_permutation('bbad','ddab')\n",
    "\n",
    "# Complexity\n",
    "#  Time: O(2n) or just O(n)\n",
    "#  Space: O(n)"
   ]
  },
  {
   "cell_type": "markdown",
   "metadata": {},
   "source": [
    "## 1.3 URLify\n",
    "Write a method to replace all spaces in a string with `%20`.  You may assume that the string has sufficient space at the end to hold the additional characters, and that you are given the \"true\" length of the string."
   ]
  },
  {
   "cell_type": "code",
   "execution_count": 4,
   "metadata": {},
   "outputs": [
    {
     "name": "stdout",
     "output_type": "stream",
     "text": [
      "test%20string\n"
     ]
    }
   ],
   "source": [
    "def replace_html_a(string):\n",
    "    return string.replace(' ','%20')\n",
    "\n",
    "print(replace_html_a(\"test string\"))\n",
    "\n",
    "# Complexity\n",
    "#  Time: O(n^2)  (assuming O(n) per replacement and O(n) to find all replacements - but I doubt this...see timing below)\n",
    "#  Space: O(n)"
   ]
  },
  {
   "cell_type": "code",
   "execution_count": 5,
   "metadata": {},
   "outputs": [
    {
     "name": "stdout",
     "output_type": "stream",
     "text": [
      "test%20string\n"
     ]
    }
   ],
   "source": [
    "def replace_html_b(string):\n",
    "    new_string = ''\n",
    "    for c in string:\n",
    "        if c != ' ':\n",
    "            new_string += c\n",
    "        else:\n",
    "            new_string += '%20'\n",
    "    return new_string\n",
    "\n",
    "print(replace_html_b(\"test string\"))\n",
    "\n",
    "# Complexity\n",
    "#  Time: O(n^2) (string concat is O(n))\n",
    "#  Space: O(n)"
   ]
  },
  {
   "cell_type": "code",
   "execution_count": 6,
   "metadata": {},
   "outputs": [
    {
     "name": "stdout",
     "output_type": "stream",
     "text": [
      "test%20tring\n"
     ]
    }
   ],
   "source": [
    "def replace_html_c(string):\n",
    "    new_string = ''\n",
    "    i=0\n",
    "    while True:\n",
    "        try:\n",
    "            j=string[i:].index(' ')+i\n",
    "            new_string += string[i:j]+'%20'\n",
    "            i=j+1\n",
    "        except:\n",
    "            new_string += string[i+1:]\n",
    "            return new_string\n",
    "\n",
    "print(replace_html_c(\"test string\"))\n",
    "\n",
    "# Complexity\n",
    "#  Time: O(n^2) (still string concat is O(n) but likely fewer concats)\n",
    "#  Space: O(n)"
   ]
  },
  {
   "cell_type": "code",
   "execution_count": 7,
   "metadata": {},
   "outputs": [
    {
     "name": "stdout",
     "output_type": "stream",
     "text": [
      "247 ns ± 0.404 ns per loop (mean ± std. dev. of 7 runs, 1000000 loops each)\n",
      "3.85 µs ± 78.7 ns per loop (mean ± std. dev. of 7 runs, 100000 loops each)\n",
      "3.68 µs ± 61.3 ns per loop (mean ± std. dev. of 7 runs, 100000 loops each)\n"
     ]
    }
   ],
   "source": [
    "%timeit replace_html_a(\"test string test string test string test string test string\")\n",
    "%timeit replace_html_b(\"test string test string test string test string test string\")\n",
    "%timeit replace_html_c(\"test string test string test string test string test string\")"
   ]
  },
  {
   "cell_type": "markdown",
   "metadata": {},
   "source": [
    "## 1.4 Palindrome Permutation\n",
    "Given a string, write a function to check if it is a permutation of a palindrome.  A palindrome is a word or phrase that is the same forwards and backwards.  A permutation is a rearrangement of letters.  The palindrome does not need to be limited to just dictionary words.  Ignore case and whitespace.\n",
    "\n",
    "```\n",
    "Example\n",
    "Input: Tact Coa\n",
    "Output: True (permutation: \"taco cat\", \"atco cta\", etc.)\n",
    "```"
   ]
  },
  {
   "cell_type": "code",
   "execution_count": 8,
   "metadata": {},
   "outputs": [
    {
     "name": "stdout",
     "output_type": "stream",
     "text": [
      "True\n",
      "False\n",
      "True\n"
     ]
    }
   ],
   "source": [
    "def is_palindrome_permutation(string):\n",
    "    dict_s = {}\n",
    "    for c in string:\n",
    "        if c != ' ':\n",
    "            dict_s[c.lower()] = dict_s.get(c.lower(),0)+1\n",
    "    found_odd = False\n",
    "    for v in dict_s.values():\n",
    "        if v%2 == 1:\n",
    "            if found_odd:\n",
    "                # already have an odd..not possible to have 2 or more odds within palindrome\n",
    "                return False\n",
    "            found_odd = True\n",
    "    return True\n",
    "            \n",
    "print(is_palindrome_permutation('Tact Coa'))  # True --> tacocat\n",
    "print(is_palindrome_permutation('Tact Co'))   # False --> tacoct\n",
    "print(is_palindrome_permutation('Tact Cooa')) # True --> tacoocat\n",
    "\n",
    "# Complexity\n",
    "#  Time: O(n)\n",
    "#  Space: O(n)"
   ]
  },
  {
   "cell_type": "markdown",
   "metadata": {},
   "source": [
    "## 1.5 One Away\n",
    "There are three types of edits that can be peformed on  strings: insert a character, remove a character, or replace a character.  Given two strings, write a function to check if they are one edit (or zero edits) away.\n",
    "\n",
    "```\n",
    "Example\n",
    "pale, ple --> true\n",
    "pales, pale --> true\n",
    "pale, bale --> true\n",
    "pale, bake --> false\n",
    "```"
   ]
  },
  {
   "cell_type": "code",
   "execution_count": 9,
   "metadata": {},
   "outputs": [
    {
     "name": "stdout",
     "output_type": "stream",
     "text": [
      "True\n",
      "True\n",
      "True\n",
      "False\n"
     ]
    }
   ],
   "source": [
    "def is_one_edit(string_a, string_b):\n",
    "    len_a = len(string_a)\n",
    "    len_b = len(string_b)\n",
    "    if abs(len_a-len_b) > 1:\n",
    "        return False\n",
    "    \n",
    "    i,j=0,0\n",
    "    found=False\n",
    "    while True:\n",
    "        if i>=len_a or j>=len_b:\n",
    "            return True\n",
    "        if string_a[i] != string_b[j]:\n",
    "            if found:\n",
    "                return False\n",
    "            found = True\n",
    "            if len_a > len_b:\n",
    "                i+=1\n",
    "            elif len_a < len_b:\n",
    "                j+=1\n",
    "        i+=1\n",
    "        j+=1\n",
    "\n",
    "print(is_one_edit('pale', 'ple'))\n",
    "print(is_one_edit('pales', 'pale'))\n",
    "print(is_one_edit('pale', 'bale'))\n",
    "print(is_one_edit('pale', 'bake'))\n",
    "\n",
    "# Complexity\n",
    "#  Time: O(n) - where n is the length of the shorter string\n",
    "#  Space: O(1)"
   ]
  },
  {
   "cell_type": "markdown",
   "metadata": {},
   "source": [
    "## 1.6 String Compression\n",
    "Implement a method to perform basic string compression using the counts of repeated characters.  For example, the string `aabcccccaaa` would become `a2b1c5a3`.  If the \"compressed\" string would not become smaller than the original string, your method should return the original string.  you can asume the string has only uppercase and lowercase letters (a-z)."
   ]
  },
  {
   "cell_type": "code",
   "execution_count": 10,
   "metadata": {},
   "outputs": [
    {
     "name": "stdout",
     "output_type": "stream",
     "text": [
      "a2b1c5a3\n",
      "a1b2c3\n",
      "abbcc\n",
      "d10a12\n"
     ]
    }
   ],
   "source": [
    "def compress_string(string):\n",
    "    l=len(string)\n",
    "    new_string=''\n",
    "    pc,ct=-1,0\n",
    "    for c in string:\n",
    "        if c!=pc:\n",
    "            if ct>0:\n",
    "                new_string += f'{pc}{ct}'\n",
    "                if len(new_string)+2>l:\n",
    "                    return string\n",
    "            pc=c\n",
    "            ct=1\n",
    "        else:\n",
    "            ct+=1\n",
    "    new_string += f'{pc}{ct}'\n",
    "    return new_string\n",
    "        \n",
    "print(compress_string('aabcccccaaa'))\n",
    "print(compress_string('abbccc'))\n",
    "print(compress_string('abbcc'))\n",
    "print(compress_string('ddddddddddaaaaaaaaaaaa'))\n",
    "\n",
    "# Complexity\n",
    "#  Time: O(n) - but due to string being immutable, each concat is O(n) making this O(n^2)\n",
    "#  Space: O(n)"
   ]
  },
  {
   "cell_type": "markdown",
   "metadata": {},
   "source": [
    "## 1.7 Rotate Matrix\n",
    "Given an image represented by an `N x N` matrix, where each pixel in the image is represented by an integer, write a method to rotate the image by 90 degrees.  Can you do this in place?"
   ]
  },
  {
   "cell_type": "code",
   "execution_count": 11,
   "metadata": {},
   "outputs": [
    {
     "data": {
      "text/plain": [
       "[[194, 138, 191, 188, 12, 64, 15, 245, 100, 152],\n",
       " [14, 2, 142, 207, 8, 16, 53, 199, 146, 96],\n",
       " [52, 135, 122, 148, 177, 12, 38, 153, 212, 107],\n",
       " [60, 21, 60, 33, 130, 129, 34, 57, 182, 95],\n",
       " [145, 229, 197, 113, 159, 212, 128, 68, 88, 223],\n",
       " [5, 203, 184, 211, 129, 8, 118, 132, 191, 33],\n",
       " [40, 244, 14, 23, 158, 68, 18, 196, 188, 13],\n",
       " [229, 171, 15, 62, 93, 63, 9, 190, 123, 8],\n",
       " [58, 248, 183, 147, 214, 240, 11, 129, 128, 89],\n",
       " [97, 78, 68, 175, 181, 139, 85, 140, 122, 79]]"
      ]
     },
     "execution_count": 11,
     "metadata": {},
     "output_type": "execute_result"
    }
   ],
   "source": [
    "# Helper function to create an image matrix\n",
    "\n",
    "import random\n",
    "def gen_image(n):\n",
    "    mat=[]\n",
    "    for i in range(n):\n",
    "        mat.append([random.randint(0,254) for _ in range(n)])\n",
    "    return mat\n",
    "image = gen_image(10)\n",
    "image"
   ]
  },
  {
   "cell_type": "code",
   "execution_count": 12,
   "metadata": {},
   "outputs": [
    {
     "data": {
      "text/plain": [
       "array([[152,  96, 107,  95, 223,  33,  13,   8,  89,  79],\n",
       "       [100, 146, 212, 182,  88, 191, 188, 123, 128, 122],\n",
       "       [245, 199, 153,  57,  68, 132, 196, 190, 129, 140],\n",
       "       [ 15,  53,  38,  34, 128, 118,  18,   9,  11,  85],\n",
       "       [ 64,  16,  12, 129, 212,   8,  68,  63, 240, 139],\n",
       "       [ 12,   8, 177, 130, 159, 129, 158,  93, 214, 181],\n",
       "       [188, 207, 148,  33, 113, 211,  23,  62, 147, 175],\n",
       "       [191, 142, 122,  60, 197, 184,  14,  15, 183,  68],\n",
       "       [138,   2, 135,  21, 229, 203, 244, 171, 248,  78],\n",
       "       [194,  14,  52,  60, 145,   5,  40, 229,  58,  97]])"
      ]
     },
     "execution_count": 12,
     "metadata": {},
     "output_type": "execute_result"
    }
   ],
   "source": [
    "import numpy as np\n",
    "\n",
    "def rotate_90_np(image):\n",
    "    return np.rot90(np.array(image), k=1)\n",
    "rotate_90_np(image)\n",
    "\n",
    "# Yes, this is kinda cheating but it's vectorized so probably the ideal solution\n",
    "# Since it rotates counter-clockwise, if we wanted to rotate clockwise, we'd change k=3 for 3 rotations"
   ]
  },
  {
   "cell_type": "code",
   "execution_count": 13,
   "metadata": {},
   "outputs": [
    {
     "data": {
      "text/plain": [
       "[[152, 96, 107, 95, 223, 33, 13, 8, 89, 79],\n",
       " [100, 146, 212, 182, 88, 191, 188, 123, 128, 122],\n",
       " [245, 199, 153, 57, 68, 132, 196, 190, 129, 140],\n",
       " [15, 53, 38, 34, 128, 118, 18, 9, 11, 85],\n",
       " [64, 16, 12, 129, 212, 8, 68, 63, 240, 139],\n",
       " [12, 8, 177, 130, 159, 129, 158, 93, 214, 181],\n",
       " [188, 207, 148, 33, 113, 211, 23, 62, 147, 175],\n",
       " [191, 142, 122, 60, 197, 184, 14, 15, 183, 68],\n",
       " [138, 2, 135, 21, 229, 203, 244, 171, 248, 78],\n",
       " [194, 14, 52, 60, 145, 5, 40, 229, 58, 97]]"
      ]
     },
     "execution_count": 13,
     "metadata": {},
     "output_type": "execute_result"
    }
   ],
   "source": [
    "def rotate_90_cp(image):\n",
    "    n = len(image)\n",
    "    mat=[[-1]*n for _ in range(n)]\n",
    "    \n",
    "    for i in range(n):\n",
    "        for j in range(n):\n",
    "            mat[n-j-1][i]=image[i][j]\n",
    "    return mat\n",
    "rotate_90_cp(image)\n",
    "\n",
    "\n",
    "# Complexity\n",
    "#  Time: O(n^2) - if n is defined as the length and width of the matrix.  If n is the number of pixels, this would be O(n)\n",
    "#  Space: O(n^2)\n",
    "# This is not in place"
   ]
  },
  {
   "cell_type": "code",
   "execution_count": 14,
   "metadata": {},
   "outputs": [
    {
     "data": {
      "text/plain": [
       "[[152, 96, 107, 95, 223, 33, 13, 8, 89, 79],\n",
       " [100, 146, 212, 182, 88, 191, 188, 123, 128, 122],\n",
       " [245, 199, 153, 57, 68, 132, 196, 190, 129, 140],\n",
       " [15, 53, 38, 34, 128, 118, 18, 9, 11, 85],\n",
       " [64, 16, 12, 129, 212, 8, 68, 63, 240, 139],\n",
       " [12, 8, 177, 130, 159, 129, 158, 93, 214, 181],\n",
       " [188, 207, 148, 33, 113, 211, 23, 62, 147, 175],\n",
       " [191, 142, 122, 60, 197, 184, 14, 15, 183, 68],\n",
       " [138, 2, 135, 21, 229, 203, 244, 171, 248, 78],\n",
       " [194, 14, 52, 60, 145, 5, 40, 229, 58, 97]]"
      ]
     },
     "execution_count": 14,
     "metadata": {},
     "output_type": "execute_result"
    }
   ],
   "source": [
    "import copy\n",
    "\n",
    "def rotate_90_ip(image):\n",
    "    n = len(image)\n",
    "    t1,t2,t3=0,0,0\n",
    "    \n",
    "    for i in range(n//2):\n",
    "        for j in range(i,n-i-1):\n",
    "            t1 = image[n-j-1][i]\n",
    "            t2 = image[n-i-1][n-j-1]\n",
    "            t3 = image[j][n-i-1]\n",
    "            image[n-j-1][i]=image[i][j]\n",
    "            image[n-i-1][n-j-1]=t1\n",
    "            image[j][n-i-1]=t2\n",
    "            image[i][j]=t3\n",
    "    return image\n",
    "rotate_90_ip(copy.deepcopy(image))\n",
    "\n",
    "# Complexity\n",
    "#  Time: O(n^2) since we touch all elements in the matrix.  Expanded out, this is O(n/2 * n/2 * 4)\n",
    "#  Space: O(1)\n",
    "# This is in place"
   ]
  },
  {
   "cell_type": "code",
   "execution_count": 15,
   "metadata": {},
   "outputs": [
    {
     "name": "stdout",
     "output_type": "stream",
     "text": [
      "Copy matches NumPy version? True\n",
      "InPlace matches NumPy version? True\n"
     ]
    }
   ],
   "source": [
    "print('Copy matches NumPy version?',(rotate_90_np(image)==rotate_90_cp(image)).all())\n",
    "print('InPlace matches NumPy version?',(rotate_90_np(image)==rotate_90_ip(copy.deepcopy(image))).all())"
   ]
  },
  {
   "cell_type": "code",
   "execution_count": 16,
   "metadata": {},
   "outputs": [
    {
     "name": "stdout",
     "output_type": "stream",
     "text": [
      "39 ms ± 85.5 µs per loop (mean ± std. dev. of 7 runs, 10 loops each)\n",
      "120 ms ± 1.59 ms per loop (mean ± std. dev. of 7 runs, 10 loops each)\n",
      "162 ms ± 1.91 ms per loop (mean ± std. dev. of 7 runs, 10 loops each)\n"
     ]
    }
   ],
   "source": [
    "big_image = gen_image(1000)\n",
    "%timeit rotate_90_np(big_image)\n",
    "%timeit rotate_90_cp(big_image)\n",
    "%timeit rotate_90_ip(big_image)"
   ]
  },
  {
   "cell_type": "markdown",
   "metadata": {},
   "source": [
    "## 1.8 Zero Matrix\n",
    "Write an algorithm such that if an element in an `M x N` matrix is `0`, its entire row and column are set to `0`."
   ]
  },
  {
   "cell_type": "code",
   "execution_count": 17,
   "metadata": {},
   "outputs": [
    {
     "data": {
      "text/plain": [
       "[[11, 13, 17, 16, 13],\n",
       " [13, 19, 10, 10, 19],\n",
       " [17, 15, 9, 18, 6],\n",
       " [20, 3, 14, 15, 1],\n",
       " [0, 16, 3, 13, 7],\n",
       " [15, 15, 2, 7, 3],\n",
       " [17, 16, 1, 9, 16],\n",
       " [3, 16, 14, 8, 8],\n",
       " [3, 20, 11, 1, 19],\n",
       " [11, 13, 14, 18, 17]]"
      ]
     },
     "execution_count": 17,
     "metadata": {},
     "output_type": "execute_result"
    }
   ],
   "source": [
    "# Helper function to create an MxN matrix\n",
    "\n",
    "import random\n",
    "def gen_matrix(m,n):\n",
    "    mat=[]\n",
    "    for i in range(m):\n",
    "        mat.append([random.randint(0,20) for _ in range(n)])\n",
    "    return mat\n",
    "mat = gen_matrix(10,5)\n",
    "mat"
   ]
  },
  {
   "cell_type": "code",
   "execution_count": 18,
   "metadata": {},
   "outputs": [
    {
     "data": {
      "text/plain": [
       "[[0, 13, 17, 16, 13],\n",
       " [0, 19, 10, 10, 19],\n",
       " [0, 15, 9, 18, 6],\n",
       " [0, 3, 14, 15, 1],\n",
       " [0, 0, 0, 0, 0],\n",
       " [0, 15, 2, 7, 3],\n",
       " [0, 16, 1, 9, 16],\n",
       " [0, 16, 14, 8, 8],\n",
       " [0, 20, 11, 1, 19],\n",
       " [0, 13, 14, 18, 17]]"
      ]
     },
     "execution_count": 18,
     "metadata": {},
     "output_type": "execute_result"
    }
   ],
   "source": [
    "def zero_matrix_cp(mat):\n",
    "    m,n=len(mat),len(mat[0])\n",
    "    new_mat = [[-1]*n for _ in range(m)]\n",
    "    for i,row in enumerate(mat):\n",
    "        for j,a in enumerate(row):\n",
    "            if a==0:\n",
    "                new_mat[i] = [0]*n\n",
    "                for i2 in range(m):\n",
    "                    new_mat[i2][j]=0\n",
    "                break\n",
    "            elif new_mat[i][j] == -1:\n",
    "                new_mat[i][j] = a\n",
    "    return new_mat\n",
    "zero_matrix_cp(mat)\n",
    "\n",
    "# Complexity\n",
    "#  Time: O(m*n^2)\n",
    "#  Space: O(m*n^2)\n",
    "# This is not in place"
   ]
  },
  {
   "cell_type": "code",
   "execution_count": 19,
   "metadata": {},
   "outputs": [
    {
     "data": {
      "text/plain": [
       "[[0, 13, 17, 16, 13],\n",
       " [0, 19, 10, 10, 19],\n",
       " [0, 15, 9, 18, 6],\n",
       " [0, 3, 14, 15, 1],\n",
       " [0, 0, 0, 0, 0],\n",
       " [0, 15, 2, 7, 3],\n",
       " [0, 16, 1, 9, 16],\n",
       " [0, 16, 14, 8, 8],\n",
       " [0, 20, 11, 1, 19],\n",
       " [0, 13, 14, 18, 17]]"
      ]
     },
     "execution_count": 19,
     "metadata": {},
     "output_type": "execute_result"
    }
   ],
   "source": [
    "import copy\n",
    "\n",
    "def zero_matrix_ip(mat):\n",
    "    rows=set()\n",
    "    columns=set()\n",
    "    for i,row in enumerate(mat):\n",
    "        for j,a in enumerate(row):\n",
    "            if a==0:\n",
    "                rows.add(i)\n",
    "                columns.add(j)\n",
    "    for i in rows:\n",
    "        for j in range(len(mat[0])):\n",
    "            mat[i][j]=0\n",
    "    for j in columns:\n",
    "        for i in range(len(mat)):\n",
    "            mat[i][j]=0\n",
    "    return mat\n",
    "zero_matrix_ip(copy.deepcopy(mat))\n",
    "\n",
    "\n",
    "# Complexity\n",
    "#  Time: O(m*n) - It's actually 3 * m * n but we drop the constant\n",
    "#  Space: O(m+n)\n",
    "# This is in place"
   ]
  },
  {
   "cell_type": "code",
   "execution_count": 20,
   "metadata": {},
   "outputs": [
    {
     "data": {
      "text/plain": [
       "array([[ 0, 13, 17, 16, 13],\n",
       "       [ 0, 19, 10, 10, 19],\n",
       "       [ 0, 15,  9, 18,  6],\n",
       "       [ 0,  3, 14, 15,  1],\n",
       "       [ 0,  0,  0,  0,  0],\n",
       "       [ 0, 15,  2,  7,  3],\n",
       "       [ 0, 16,  1,  9, 16],\n",
       "       [ 0, 16, 14,  8,  8],\n",
       "       [ 0, 20, 11,  1, 19],\n",
       "       [ 0, 13, 14, 18, 17]])"
      ]
     },
     "execution_count": 20,
     "metadata": {},
     "output_type": "execute_result"
    }
   ],
   "source": [
    "# Use numpy\n",
    "def zero_matrix_np(mat):\n",
    "    mat_np = np.array(mat)\n",
    "    rows=np.where(~mat_np.all(axis=1)) # 0 ~ False\n",
    "    cols=np.where(~mat_np.all(axis=0))\n",
    "    mat_np[rows]=0\n",
    "    mat_np[:,cols]=0\n",
    "    return mat_np\n",
    "zero_matrix_np(mat)"
   ]
  },
  {
   "cell_type": "code",
   "execution_count": 21,
   "metadata": {},
   "outputs": [
    {
     "name": "stdout",
     "output_type": "stream",
     "text": [
      "20.6 ms ± 228 µs per loop (mean ± std. dev. of 7 runs, 10 loops each)\n",
      "53.8 ms ± 1.1 ms per loop (mean ± std. dev. of 7 runs, 10 loops each)\n",
      "103 ms ± 923 µs per loop (mean ± std. dev. of 7 runs, 10 loops each)\n"
     ]
    }
   ],
   "source": [
    "big_image = gen_matrix(1000,500)\n",
    "%timeit zero_matrix_np(big_image)\n",
    "%timeit zero_matrix_cp(big_image)\n",
    "%timeit zero_matrix_ip(big_image)"
   ]
  },
  {
   "cell_type": "markdown",
   "metadata": {},
   "source": [
    "## 1.9 String Rotation\n",
    "Assume you have a method `isSubstring` which checks if one word is a substring of another.  Given two strings, `s1` and `s2`, write code to check if `s2` is a rotation of `s1` using only one call to `isSubstring` (e.g. `waterbottle` is a rotation of `erbottlewat`)."
   ]
  },
  {
   "cell_type": "code",
   "execution_count": 22,
   "metadata": {},
   "outputs": [],
   "source": [
    "# Helper function\n",
    "def isSubstring(s1, s2):\n",
    "    return s2 in s1"
   ]
  },
  {
   "cell_type": "code",
   "execution_count": 23,
   "metadata": {},
   "outputs": [
    {
     "name": "stdout",
     "output_type": "stream",
     "text": [
      "True\n",
      "False\n",
      "True\n",
      "False\n"
     ]
    }
   ],
   "source": [
    "def is_rotation(s1, s2):\n",
    "    return isSubstring(s1+s1,s2) and len(s1)==len(s2)\n",
    "\n",
    "print(is_rotation('erbottlewat','waterbottle'))\n",
    "print(is_rotation('erbottleat','waterbottle'))\n",
    "print(is_rotation('bottlewater','waterbottle'))\n",
    "print(is_rotation('ttlewaterbottlewaterbo','waterbottle'))"
   ]
  }
 ],
 "metadata": {
  "kernelspec": {
   "display_name": "Python 3",
   "language": "python",
   "name": "python3"
  },
  "language_info": {
   "codemirror_mode": {
    "name": "ipython",
    "version": 3
   },
   "file_extension": ".py",
   "mimetype": "text/x-python",
   "name": "python",
   "nbconvert_exporter": "python",
   "pygments_lexer": "ipython3",
   "version": "3.8.5"
  }
 },
 "nbformat": 4,
 "nbformat_minor": 4
}
