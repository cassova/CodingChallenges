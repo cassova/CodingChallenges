{
 "cells": [
  {
   "cell_type": "code",
   "execution_count": 15,
   "metadata": {},
   "outputs": [
    {
     "data": {
      "text/plain": [
       "3.140704"
      ]
     },
     "execution_count": 15,
     "metadata": {},
     "output_type": "execute_result"
    }
   ],
   "source": [
    "import numpy as np\n",
    "\n",
    "count=1000000\n",
    "\n",
    "x=np.random.rand(count)\n",
    "y=np.random.rand(count)\n",
    "\n",
    "sum(x**2 + y**2 < 1)/count * 4"
   ]
  },
  {
   "cell_type": "markdown",
   "metadata": {},
   "source": [
    "**Explanation**: \n",
    "\n",
    "This is using the Monte Carlo method for estimating $\\pi$.\n",
    "\n",
    "\n",
    "The area of a circle is $A = \\pi r^2$.  A unit circle is a circle with `r = 1` and can be described by the equation $x^2 + y^2=1$ thus simplfying the area equation to $A=\\pi$.  Focusing only on the top right quadrant (where `x` and `y` are both positive), if we pick random `x` and `y` pairs that are between `0` and `1`, the point will be within the circle if $x^2 + y^2 < 1$. We then just need to take the ratio of points within the circle to total points to come up with the value for $\\pi$.  Since we're only looking at one of the quadrants, you multiply the result by `4`."
   ]
  }
 ],
 "metadata": {
  "kernelspec": {
   "display_name": "Python 3",
   "language": "python",
   "name": "python3"
  },
  "language_info": {
   "codemirror_mode": {
    "name": "ipython",
    "version": 3
   },
   "file_extension": ".py",
   "mimetype": "text/x-python",
   "name": "python",
   "nbconvert_exporter": "python",
   "pygments_lexer": "ipython3",
   "version": "3.8.5"
  }
 },
 "nbformat": 4,
 "nbformat_minor": 4
}
