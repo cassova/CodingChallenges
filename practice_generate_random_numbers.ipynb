{
 "cells": [
  {
   "cell_type": "code",
   "execution_count": 18,
   "metadata": {},
   "outputs": [],
   "source": [
    "import numpy as np\n",
    "\n",
    "# Write a bunch of random numbers and write to a file\n",
    "with open('int.txt', 'w') as f:\n",
    "    start = 0\n",
    "    end = 100\n",
    "    howmany = 100000\n",
    "    numbers = np.random.randint(start,end,howmany)\n",
    "    stirng = \"[\"\n",
    "    for n in numbers:\n",
    "        stirng +=  str(n) + \", \"  \n",
    "    stirng += \"]\"\n",
    "    f.write(stirng)"
   ]
  },
  {
   "cell_type": "code",
   "execution_count": 8,
   "metadata": {},
   "outputs": [],
   "source": [
    "import numpy as np\n",
    "\n",
    "# Generate a sequence in random order\n",
    "with open('int.txt', 'w') as f:\n",
    "    start = 1\n",
    "    end = 100\n",
    "    numbers = np.arange(start,end)\n",
    "    np.random.shuffle(numbers)\n",
    "    string = \"\"\n",
    "    for n in numbers:\n",
    "        string +=  str(n) + \" \"\n",
    "    f.write(str(len(numbers)) + '\\n') # write the number of elements\n",
    "    f.write(string)"
   ]
  }
 ],
 "metadata": {
  "kernelspec": {
   "display_name": "Python 3",
   "language": "python",
   "name": "python3"
  },
  "language_info": {
   "codemirror_mode": {
    "name": "ipython",
    "version": 3
   },
   "file_extension": ".py",
   "mimetype": "text/x-python",
   "name": "python",
   "nbconvert_exporter": "python",
   "pygments_lexer": "ipython3",
   "version": "3.8.5"
  }
 },
 "nbformat": 4,
 "nbformat_minor": 4
}
